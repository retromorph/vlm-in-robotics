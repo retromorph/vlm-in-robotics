{
 "cells": [
  {
   "cell_type": "code",
   "execution_count": 2,
   "id": "680c5d42",
   "metadata": {},
   "outputs": [],
   "source": "from experiment import Experiment"
  },
  {
   "cell_type": "code",
   "execution_count": 112,
   "id": "26243b94",
   "metadata": {},
   "outputs": [
    {
     "name": "stdout",
     "output_type": "stream",
     "text": [
      "INITIALIZING cogact_base\n"
     ]
    },
    {
     "name": "stderr",
     "output_type": "stream",
     "text": [
      "[2025-04-25 05:42:29.588] [svulkan2] [warning] A second renderer will share the same internal context with the first one. Arguments passed to constructor will be ignored.\n"
     ]
    }
   ],
   "source": [
    "experiment = Experiment(tasks = [\"widowx_put_eggplant_in_basket\"], prompts=[], n_episodes=30, fps=10, experiment_name=\"cogact_base\")"
   ]
  },
  {
   "cell_type": "code",
   "execution_count": 113,
   "id": "e61cf4a4",
   "metadata": {},
   "outputs": [
    {
     "name": "stdout",
     "output_type": "stream",
     "text": [
      "RUNNING widowx_put_eggplant_in_basket with prompt put eggplant into yellow basket\n"
     ]
    },
    {
     "name": "stderr",
     "output_type": "stream",
     "text": [
      "[2025-04-25 05:42:31.537] [svulkan2] [warning] A second renderer will share the same internal context with the first one. Arguments passed to constructor will be ignored.\n"
     ]
    },
    {
     "name": "stdout",
     "output_type": "stream",
     "text": [
      "TRYING 0/30\n",
      "[widowx_put_eggplant_in_basket] ep 00 → ✗ | steps=120 | path= 0.489 m | coll=26 | saved→ cogact_base/widowx_put_eggplant_in_basket/episode_00_fail.mp4\n",
      "TRYING 1/30\n",
      "[widowx_put_eggplant_in_basket] ep 01 → ✗ | steps=120 | path= 0.244 m | coll=10 | saved→ cogact_base/widowx_put_eggplant_in_basket/episode_01_fail.mp4\n",
      "TRYING 2/30\n",
      "[widowx_put_eggplant_in_basket] ep 02 → ✗ | steps=120 | path= 1.506 m | coll=18 | saved→ cogact_base/widowx_put_eggplant_in_basket/episode_02_fail.mp4\n",
      "TRYING 3/30\n",
      "[widowx_put_eggplant_in_basket] ep 03 → ✓ | steps= 33 | path= 0.416 m | coll= 4 | saved→ cogact_base/widowx_put_eggplant_in_basket/episode_03_success.mp4\n",
      "TRYING 4/30\n",
      "[widowx_put_eggplant_in_basket] ep 04 → ✓ | steps= 48 | path= 0.405 m | coll= 5 | saved→ cogact_base/widowx_put_eggplant_in_basket/episode_04_success.mp4\n",
      "TRYING 5/30\n",
      "[widowx_put_eggplant_in_basket] ep 05 → ✗ | steps=120 | path= 1.064 m | coll=23 | saved→ cogact_base/widowx_put_eggplant_in_basket/episode_05_fail.mp4\n",
      "TRYING 6/30\n",
      "[widowx_put_eggplant_in_basket] ep 06 → ✓ | steps= 32 | path= 0.433 m | coll= 4 | saved→ cogact_base/widowx_put_eggplant_in_basket/episode_06_success.mp4\n",
      "TRYING 7/30\n",
      "[widowx_put_eggplant_in_basket] ep 07 → ✓ | steps= 38 | path= 0.417 m | coll= 4 | saved→ cogact_base/widowx_put_eggplant_in_basket/episode_07_success.mp4\n",
      "TRYING 8/30\n",
      "[widowx_put_eggplant_in_basket] ep 08 → ✓ | steps= 35 | path= 0.368 m | coll= 5 | saved→ cogact_base/widowx_put_eggplant_in_basket/episode_08_success.mp4\n",
      "TRYING 9/30\n",
      "[widowx_put_eggplant_in_basket] ep 09 → ✓ | steps= 31 | path= 0.353 m | coll= 4 | saved→ cogact_base/widowx_put_eggplant_in_basket/episode_09_success.mp4\n",
      "TRYING 10/30\n",
      "[widowx_put_eggplant_in_basket] ep 10 → ✗ | steps=120 | path= 0.430 m | coll=25 | saved→ cogact_base/widowx_put_eggplant_in_basket/episode_10_fail.mp4\n",
      "TRYING 11/30\n",
      "[widowx_put_eggplant_in_basket] ep 11 → ✗ | steps=120 | path= 0.268 m | coll=19 | saved→ cogact_base/widowx_put_eggplant_in_basket/episode_11_fail.mp4\n",
      "TRYING 12/30\n",
      "[widowx_put_eggplant_in_basket] ep 12 → ✓ | steps= 33 | path= 0.303 m | coll= 5 | saved→ cogact_base/widowx_put_eggplant_in_basket/episode_12_success.mp4\n",
      "TRYING 13/30\n",
      "[widowx_put_eggplant_in_basket] ep 13 → ✓ | steps= 64 | path= 0.776 m | coll= 9 | saved→ cogact_base/widowx_put_eggplant_in_basket/episode_13_success.mp4\n",
      "TRYING 14/30\n",
      "[widowx_put_eggplant_in_basket] ep 14 → ✓ | steps= 31 | path= 0.296 m | coll= 6 | saved→ cogact_base/widowx_put_eggplant_in_basket/episode_14_success.mp4\n",
      "TRYING 15/30\n",
      "[widowx_put_eggplant_in_basket] ep 15 → ✗ | steps=120 | path= 0.430 m | coll=19 | saved→ cogact_base/widowx_put_eggplant_in_basket/episode_15_fail.mp4\n",
      "TRYING 16/30\n",
      "[widowx_put_eggplant_in_basket] ep 16 → ✗ | steps=120 | path= 0.311 m | coll=29 | saved→ cogact_base/widowx_put_eggplant_in_basket/episode_16_fail.mp4\n",
      "TRYING 17/30\n",
      "[widowx_put_eggplant_in_basket] ep 17 → ✗ | steps=120 | path= 0.188 m | coll=20 | saved→ cogact_base/widowx_put_eggplant_in_basket/episode_17_fail.mp4\n",
      "TRYING 18/30\n",
      "[widowx_put_eggplant_in_basket] ep 18 → ✓ | steps= 41 | path= 0.379 m | coll= 4 | saved→ cogact_base/widowx_put_eggplant_in_basket/episode_18_success.mp4\n",
      "TRYING 19/30\n",
      "[widowx_put_eggplant_in_basket] ep 19 → ✓ | steps= 33 | path= 0.363 m | coll= 5 | saved→ cogact_base/widowx_put_eggplant_in_basket/episode_19_success.mp4\n",
      "TRYING 20/30\n",
      "[widowx_put_eggplant_in_basket] ep 20 → ✗ | steps=120 | path= 0.434 m | coll=27 | saved→ cogact_base/widowx_put_eggplant_in_basket/episode_20_fail.mp4\n",
      "TRYING 21/30\n",
      "[widowx_put_eggplant_in_basket] ep 21 → ✗ | steps=120 | path= 0.208 m | coll=17 | saved→ cogact_base/widowx_put_eggplant_in_basket/episode_21_fail.mp4\n",
      "TRYING 22/30\n",
      "[widowx_put_eggplant_in_basket] ep 22 → ✗ | steps=120 | path= 0.375 m | coll=16 | saved→ cogact_base/widowx_put_eggplant_in_basket/episode_22_fail.mp4\n",
      "TRYING 23/30\n",
      "[widowx_put_eggplant_in_basket] ep 23 → ✓ | steps= 31 | path= 0.445 m | coll= 4 | saved→ cogact_base/widowx_put_eggplant_in_basket/episode_23_success.mp4\n",
      "TRYING 24/30\n",
      "[widowx_put_eggplant_in_basket] ep 24 → ✓ | steps= 37 | path= 0.393 m | coll= 5 | saved→ cogact_base/widowx_put_eggplant_in_basket/episode_24_success.mp4\n",
      "TRYING 25/30\n",
      "[widowx_put_eggplant_in_basket] ep 25 → ✗ | steps=120 | path= 0.549 m | coll=30 | saved→ cogact_base/widowx_put_eggplant_in_basket/episode_25_fail.mp4\n",
      "TRYING 26/30\n",
      "[widowx_put_eggplant_in_basket] ep 26 → ✓ | steps= 42 | path= 0.387 m | coll= 4 | saved→ cogact_base/widowx_put_eggplant_in_basket/episode_26_success.mp4\n",
      "TRYING 27/30\n",
      "[widowx_put_eggplant_in_basket] ep 27 → ✓ | steps= 35 | path= 0.397 m | coll= 6 | saved→ cogact_base/widowx_put_eggplant_in_basket/episode_27_success.mp4\n",
      "TRYING 28/30\n",
      "[widowx_put_eggplant_in_basket] ep 28 → ✗ | steps=120 | path= 0.452 m | coll=26 | saved→ cogact_base/widowx_put_eggplant_in_basket/episode_28_fail.mp4\n",
      "TRYING 29/30\n",
      "[widowx_put_eggplant_in_basket] ep 29 → ✗ | steps=120 | path= 0.706 m | coll= 9 | saved→ cogact_base/widowx_put_eggplant_in_basket/episode_29_fail.mp4\n",
      "\n",
      "------------------------------------------------------------\n",
      "widowx_put_eggplant_in_basket\n",
      "------------------------------------------------------------\n",
      " Success rate   :  0.500 (15/30)\n",
      " Episode length :  78.80 steps (avg)\n",
      " Path length    :  0.459 m   (avg)\n",
      " Collisions     :  12.93 contacts (avg)\n",
      "------------------------------------------------------------\n"
     ]
    }
   ],
   "source": [
    "experiment.run()"
   ]
  },
  {
   "cell_type": "code",
   "execution_count": 116,
   "id": "db124d5d",
   "metadata": {},
   "outputs": [
    {
     "name": "stdout",
     "output_type": "stream",
     "text": [
      "INITIALIZING cogact_prompt1\n"
     ]
    }
   ],
   "source": [
    "experiment2 = Experiment(tasks = [\"widowx_put_eggplant_in_basket\"], prompts=[\"Carefully pick eggplant and put it into yellow basket\"], n_episodes=10, fps=10, experiment_name=\"cogact_prompt1\")"
   ]
  },
  {
   "cell_type": "code",
   "execution_count": 117,
   "id": "7dbc84d2",
   "metadata": {},
   "outputs": [
    {
     "name": "stdout",
     "output_type": "stream",
     "text": [
      "RUNNING widowx_put_eggplant_in_basket with prompt Carefully pick eggplant and put it into yellow basket\n"
     ]
    },
    {
     "name": "stderr",
     "output_type": "stream",
     "text": [
      "[2025-04-25 05:57:08.138] [svulkan2] [warning] A second renderer will share the same internal context with the first one. Arguments passed to constructor will be ignored.\n"
     ]
    },
    {
     "name": "stdout",
     "output_type": "stream",
     "text": [
      "TRYING 0/10\n",
      "[widowx_put_eggplant_in_basket] ep 00 → ✗ | steps=120 | path= 1.002 m | coll=14 | saved→ cogact_prompt1/widowx_put_eggplant_in_basket/episode_00_fail.mp4\n",
      "TRYING 1/10\n",
      "[widowx_put_eggplant_in_basket] ep 01 → ✗ | steps=120 | path= 0.250 m | coll=20 | saved→ cogact_prompt1/widowx_put_eggplant_in_basket/episode_01_fail.mp4\n",
      "TRYING 2/10\n",
      "[widowx_put_eggplant_in_basket] ep 02 → ✗ | steps=120 | path= 1.607 m | coll=12 | saved→ cogact_prompt1/widowx_put_eggplant_in_basket/episode_02_fail.mp4\n",
      "TRYING 3/10\n",
      "[widowx_put_eggplant_in_basket] ep 03 → ✓ | steps= 36 | path= 0.424 m | coll= 4 | saved→ cogact_prompt1/widowx_put_eggplant_in_basket/episode_03_success.mp4\n",
      "TRYING 4/10\n",
      "[widowx_put_eggplant_in_basket] ep 04 → ✓ | steps= 27 | path= 0.304 m | coll= 6 | saved→ cogact_prompt1/widowx_put_eggplant_in_basket/episode_04_success.mp4\n",
      "TRYING 5/10\n",
      "[widowx_put_eggplant_in_basket] ep 05 → ✗ | steps=120 | path= 0.711 m | coll=28 | saved→ cogact_prompt1/widowx_put_eggplant_in_basket/episode_05_fail.mp4\n",
      "TRYING 6/10\n",
      "[widowx_put_eggplant_in_basket] ep 06 → ✓ | steps= 32 | path= 0.494 m | coll= 4 | saved→ cogact_prompt1/widowx_put_eggplant_in_basket/episode_06_success.mp4\n",
      "TRYING 7/10\n",
      "[widowx_put_eggplant_in_basket] ep 07 → ✓ | steps= 39 | path= 0.428 m | coll= 4 | saved→ cogact_prompt1/widowx_put_eggplant_in_basket/episode_07_success.mp4\n",
      "TRYING 8/10\n",
      "[widowx_put_eggplant_in_basket] ep 08 → ✓ | steps= 32 | path= 0.416 m | coll= 4 | saved→ cogact_prompt1/widowx_put_eggplant_in_basket/episode_08_success.mp4\n",
      "TRYING 9/10\n",
      "[widowx_put_eggplant_in_basket] ep 09 → ✓ | steps= 36 | path= 0.346 m | coll= 4 | saved→ cogact_prompt1/widowx_put_eggplant_in_basket/episode_09_success.mp4\n",
      "\n",
      "------------------------------------------------------------\n",
      "widowx_put_eggplant_in_basket\n",
      "------------------------------------------------------------\n",
      " Success rate   :  0.600 (6/10)\n",
      " Episode length :  68.20 steps (avg)\n",
      " Path length    :  0.598 m   (avg)\n",
      " Collisions     :  10.00 contacts (avg)\n",
      "------------------------------------------------------------\n"
     ]
    }
   ],
   "source": [
    "experiment2.run()"
   ]
  },
  {
   "cell_type": "markdown",
   "id": "e5b86930",
   "metadata": {},
   "source": [
    "# Задача google_robot_pick_coke_can"
   ]
  },
  {
   "cell_type": "code",
   "execution_count": 3,
   "id": "90c157ae",
   "metadata": {},
   "outputs": [
    {
     "name": "stdout",
     "output_type": "stream",
     "text": [
      "INITIALIZING cogact_base\n"
     ]
    },
    {
     "name": "stderr",
     "output_type": "stream",
     "text": [
      "[2025-04-25 07:16:33.379] [svulkan2] [error] GLFW error: X11: The DISPLAY environment variable is missing\n",
      "[2025-04-25 07:16:33.379] [svulkan2] [warning] Continue without GLFW.\n",
      "/opt/miniconda3/envs/vlm-in-robotics/lib/python3.10/site-packages/gymnasium/core.py:311: UserWarning: \u001B[33mWARN: env.get_language_instruction to get variables from other wrappers is deprecated and will be removed in v1.0, to get this variable you can do `env.unwrapped.get_language_instruction` for environment variables or `env.get_wrapper_attr('get_language_instruction')` that will search the reminding wrappers.\u001B[0m\n",
      "  logger.warn(\n"
     ]
    }
   ],
   "source": [
    "experiment3 = Experiment(tasks = [\"google_robot_pick_coke_can\"], prompts=[], n_episodes=30, fps=10, experiment_name=\"cogact_base\")"
   ]
  },
  {
   "cell_type": "code",
   "execution_count": 4,
   "id": "8669419f",
   "metadata": {},
   "outputs": [
    {
     "name": "stdout",
     "output_type": "stream",
     "text": [
      "RUNNING google_robot_pick_coke_can with prompt pick coke can\n"
     ]
    },
    {
     "name": "stderr",
     "output_type": "stream",
     "text": [
      "[2025-04-25 07:16:38.701] [svulkan2] [error] GLFW error: X11: The DISPLAY environment variable is missing\n",
      "[2025-04-25 07:16:38.701] [svulkan2] [warning] Continue without GLFW.\n"
     ]
    },
    {
     "name": "stdout",
     "output_type": "stream",
     "text": [
      "TRYING 0/30\n"
     ]
    },
    {
     "name": "stderr",
     "output_type": "stream",
     "text": [
      "/opt/miniconda3/envs/vlm-in-robotics/lib/python3.10/site-packages/gymnasium/core.py:311: UserWarning: \u001B[33mWARN: env.robot_uid to get variables from other wrappers is deprecated and will be removed in v1.0, to get this variable you can do `env.unwrapped.robot_uid` for environment variables or `env.get_wrapper_attr('robot_uid')` that will search the reminding wrappers.\u001B[0m\n",
      "  logger.warn(\n"
     ]
    },
    {
     "name": "stdout",
     "output_type": "stream",
     "text": [
      "[google_robot_pick_coke_can] ep 00 → ✗ | steps= 80 | path= 0.142 m | coll= 0 | saved→ cogact_base/google_robot_pick_coke_can/episode_00_fail.mp4\n",
      "TRYING 1/30\n",
      "[google_robot_pick_coke_can] ep 01 → ✗ | steps= 80 | path= 0.092 m | coll= 0 | saved→ cogact_base/google_robot_pick_coke_can/episode_01_fail.mp4\n",
      "TRYING 2/30\n",
      "[google_robot_pick_coke_can] ep 02 → ✗ | steps= 80 | path= 0.064 m | coll= 0 | saved→ cogact_base/google_robot_pick_coke_can/episode_02_fail.mp4\n",
      "TRYING 3/30\n",
      "[google_robot_pick_coke_can] ep 03 → ✓ | steps= 77 | path= 0.352 m | coll= 4 | saved→ cogact_base/google_robot_pick_coke_can/episode_03_success.mp4\n",
      "TRYING 4/30\n",
      "[google_robot_pick_coke_can] ep 04 → ✗ | steps= 80 | path= 0.400 m | coll= 7 | saved→ cogact_base/google_robot_pick_coke_can/episode_04_fail.mp4\n",
      "TRYING 5/30\n",
      "[google_robot_pick_coke_can] ep 05 → ✗ | steps= 80 | path= 0.130 m | coll= 0 | saved→ cogact_base/google_robot_pick_coke_can/episode_05_fail.mp4\n",
      "TRYING 6/30\n",
      "[google_robot_pick_coke_can] ep 06 → ✗ | steps= 80 | path= 0.098 m | coll= 0 | saved→ cogact_base/google_robot_pick_coke_can/episode_06_fail.mp4\n",
      "TRYING 7/30\n",
      "[google_robot_pick_coke_can] ep 07 → ✗ | steps= 80 | path= 0.106 m | coll= 0 | saved→ cogact_base/google_robot_pick_coke_can/episode_07_fail.mp4\n",
      "TRYING 8/30\n"
     ]
    },
    {
     "ename": "KeyboardInterrupt",
     "evalue": "",
     "output_type": "error",
     "traceback": [
      "\u001B[0;31m---------------------------------------------------------------------------\u001B[0m",
      "\u001B[0;31mKeyboardInterrupt\u001B[0m                         Traceback (most recent call last)",
      "Cell \u001B[0;32mIn[4], line 1\u001B[0m\n\u001B[0;32m----> 1\u001B[0m \u001B[43mexperiment3\u001B[49m\u001B[38;5;241;43m.\u001B[39;49m\u001B[43mrun\u001B[49m\u001B[43m(\u001B[49m\u001B[43m)\u001B[49m\n",
      "Cell \u001B[0;32mIn[2], line 59\u001B[0m, in \u001B[0;36mExperiment.run\u001B[0;34m(self)\u001B[0m\n\u001B[1;32m     56\u001B[0m \u001B[38;5;28;01mif\u001B[39;00m \u001B[38;5;129;01mnot\u001B[39;00m success_cv2:\n\u001B[1;32m     57\u001B[0m     \u001B[38;5;28;01mraise\u001B[39;00m \u001B[38;5;167;01mRuntimeError\u001B[39;00m(\u001B[38;5;124m\"\u001B[39m\u001B[38;5;124mFailed to encode image\u001B[39m\u001B[38;5;124m\"\u001B[39m)\n\u001B[0;32m---> 59\u001B[0m response \u001B[38;5;241m=\u001B[39m \u001B[43mrequests\u001B[49m\u001B[38;5;241;43m.\u001B[39;49m\u001B[43mpost\u001B[49m\u001B[43m(\u001B[49m\n\u001B[1;32m     60\u001B[0m \u001B[43m    \u001B[49m\u001B[38;5;124;43m\"\u001B[39;49m\u001B[38;5;124;43mhttp://localhost:8003/step\u001B[39;49m\u001B[38;5;124;43m\"\u001B[39;49m\u001B[43m,\u001B[49m\n\u001B[1;32m     61\u001B[0m \u001B[43m    \u001B[49m\u001B[43mfiles\u001B[49m\u001B[38;5;241;43m=\u001B[39;49m\u001B[43m{\u001B[49m\n\u001B[1;32m     62\u001B[0m \u001B[43m        \u001B[49m\u001B[38;5;66;43;03m# The key \"image\" should match the parameter name in your API\u001B[39;49;00m\n\u001B[1;32m     63\u001B[0m \u001B[43m        \u001B[49m\u001B[38;5;124;43m\"\u001B[39;49m\u001B[38;5;124;43mfile\u001B[39;49m\u001B[38;5;124;43m\"\u001B[39;49m\u001B[43m:\u001B[49m\u001B[43m \u001B[49m\u001B[43m(\u001B[49m\u001B[38;5;124;43m\"\u001B[39;49m\u001B[38;5;124;43mimage.jpg\u001B[39;49m\u001B[38;5;124;43m\"\u001B[39;49m\u001B[43m,\u001B[49m\u001B[43m \u001B[49m\u001B[43mimg_encoded_jpeg\u001B[49m\u001B[38;5;241;43m.\u001B[39;49m\u001B[43mtobytes\u001B[49m\u001B[43m(\u001B[49m\u001B[43m)\u001B[49m\u001B[43m,\u001B[49m\u001B[43m \u001B[49m\u001B[38;5;124;43m\"\u001B[39;49m\u001B[38;5;124;43mimage/jpeg\u001B[39;49m\u001B[38;5;124;43m\"\u001B[39;49m\u001B[43m)\u001B[49m\u001B[43m,\u001B[49m\n\u001B[1;32m     64\u001B[0m \u001B[43m    \u001B[49m\u001B[43m}\u001B[49m\u001B[43m,\u001B[49m\n\u001B[1;32m     65\u001B[0m \u001B[43m    \u001B[49m\u001B[43mdata\u001B[49m\u001B[38;5;241;43m=\u001B[39;49m\u001B[43m{\u001B[49m\n\u001B[1;32m     66\u001B[0m \u001B[43m        \u001B[49m\u001B[38;5;124;43m\"\u001B[39;49m\u001B[38;5;124;43mtask_description\u001B[39;49m\u001B[38;5;124;43m\"\u001B[39;49m\u001B[43m:\u001B[49m\u001B[43m \u001B[49m\u001B[43mprompt\u001B[49m\u001B[43m,\u001B[49m\n\u001B[1;32m     67\u001B[0m \u001B[43m    \u001B[49m\u001B[43m}\u001B[49m\n\u001B[1;32m     68\u001B[0m \u001B[43m\u001B[49m\u001B[43m)\u001B[49m\n\u001B[1;32m     70\u001B[0m result \u001B[38;5;241m=\u001B[39m response\u001B[38;5;241m.\u001B[39mjson()\n\u001B[1;32m     71\u001B[0m act \u001B[38;5;241m=\u001B[39m result[\u001B[38;5;124m\"\u001B[39m\u001B[38;5;124maction\u001B[39m\u001B[38;5;124m\"\u001B[39m]\n",
      "File \u001B[0;32m/opt/miniconda3/envs/vlm-in-robotics/lib/python3.10/site-packages/requests/api.py:115\u001B[0m, in \u001B[0;36mpost\u001B[0;34m(url, data, json, **kwargs)\u001B[0m\n\u001B[1;32m    103\u001B[0m \u001B[38;5;28;01mdef\u001B[39;00m\u001B[38;5;250m \u001B[39m\u001B[38;5;21mpost\u001B[39m(url, data\u001B[38;5;241m=\u001B[39m\u001B[38;5;28;01mNone\u001B[39;00m, json\u001B[38;5;241m=\u001B[39m\u001B[38;5;28;01mNone\u001B[39;00m, \u001B[38;5;241m*\u001B[39m\u001B[38;5;241m*\u001B[39mkwargs):\n\u001B[1;32m    104\u001B[0m \u001B[38;5;250m    \u001B[39m\u001B[38;5;124mr\u001B[39m\u001B[38;5;124;03m\"\"\"Sends a POST request.\u001B[39;00m\n\u001B[1;32m    105\u001B[0m \n\u001B[1;32m    106\u001B[0m \u001B[38;5;124;03m    :param url: URL for the new :class:`Request` object.\u001B[39;00m\n\u001B[0;32m   (...)\u001B[0m\n\u001B[1;32m    112\u001B[0m \u001B[38;5;124;03m    :rtype: requests.Response\u001B[39;00m\n\u001B[1;32m    113\u001B[0m \u001B[38;5;124;03m    \"\"\"\u001B[39;00m\n\u001B[0;32m--> 115\u001B[0m     \u001B[38;5;28;01mreturn\u001B[39;00m \u001B[43mrequest\u001B[49m\u001B[43m(\u001B[49m\u001B[38;5;124;43m\"\u001B[39;49m\u001B[38;5;124;43mpost\u001B[39;49m\u001B[38;5;124;43m\"\u001B[39;49m\u001B[43m,\u001B[49m\u001B[43m \u001B[49m\u001B[43murl\u001B[49m\u001B[43m,\u001B[49m\u001B[43m \u001B[49m\u001B[43mdata\u001B[49m\u001B[38;5;241;43m=\u001B[39;49m\u001B[43mdata\u001B[49m\u001B[43m,\u001B[49m\u001B[43m \u001B[49m\u001B[43mjson\u001B[49m\u001B[38;5;241;43m=\u001B[39;49m\u001B[43mjson\u001B[49m\u001B[43m,\u001B[49m\u001B[43m \u001B[49m\u001B[38;5;241;43m*\u001B[39;49m\u001B[38;5;241;43m*\u001B[39;49m\u001B[43mkwargs\u001B[49m\u001B[43m)\u001B[49m\n",
      "File \u001B[0;32m/opt/miniconda3/envs/vlm-in-robotics/lib/python3.10/site-packages/requests/api.py:59\u001B[0m, in \u001B[0;36mrequest\u001B[0;34m(method, url, **kwargs)\u001B[0m\n\u001B[1;32m     55\u001B[0m \u001B[38;5;66;03m# By using the 'with' statement we are sure the session is closed, thus we\u001B[39;00m\n\u001B[1;32m     56\u001B[0m \u001B[38;5;66;03m# avoid leaving sockets open which can trigger a ResourceWarning in some\u001B[39;00m\n\u001B[1;32m     57\u001B[0m \u001B[38;5;66;03m# cases, and look like a memory leak in others.\u001B[39;00m\n\u001B[1;32m     58\u001B[0m \u001B[38;5;28;01mwith\u001B[39;00m sessions\u001B[38;5;241m.\u001B[39mSession() \u001B[38;5;28;01mas\u001B[39;00m session:\n\u001B[0;32m---> 59\u001B[0m     \u001B[38;5;28;01mreturn\u001B[39;00m \u001B[43msession\u001B[49m\u001B[38;5;241;43m.\u001B[39;49m\u001B[43mrequest\u001B[49m\u001B[43m(\u001B[49m\u001B[43mmethod\u001B[49m\u001B[38;5;241;43m=\u001B[39;49m\u001B[43mmethod\u001B[49m\u001B[43m,\u001B[49m\u001B[43m \u001B[49m\u001B[43murl\u001B[49m\u001B[38;5;241;43m=\u001B[39;49m\u001B[43murl\u001B[49m\u001B[43m,\u001B[49m\u001B[43m \u001B[49m\u001B[38;5;241;43m*\u001B[39;49m\u001B[38;5;241;43m*\u001B[39;49m\u001B[43mkwargs\u001B[49m\u001B[43m)\u001B[49m\n",
      "File \u001B[0;32m/opt/miniconda3/envs/vlm-in-robotics/lib/python3.10/site-packages/requests/sessions.py:589\u001B[0m, in \u001B[0;36mSession.request\u001B[0;34m(self, method, url, params, data, headers, cookies, files, auth, timeout, allow_redirects, proxies, hooks, stream, verify, cert, json)\u001B[0m\n\u001B[1;32m    584\u001B[0m send_kwargs \u001B[38;5;241m=\u001B[39m {\n\u001B[1;32m    585\u001B[0m     \u001B[38;5;124m\"\u001B[39m\u001B[38;5;124mtimeout\u001B[39m\u001B[38;5;124m\"\u001B[39m: timeout,\n\u001B[1;32m    586\u001B[0m     \u001B[38;5;124m\"\u001B[39m\u001B[38;5;124mallow_redirects\u001B[39m\u001B[38;5;124m\"\u001B[39m: allow_redirects,\n\u001B[1;32m    587\u001B[0m }\n\u001B[1;32m    588\u001B[0m send_kwargs\u001B[38;5;241m.\u001B[39mupdate(settings)\n\u001B[0;32m--> 589\u001B[0m resp \u001B[38;5;241m=\u001B[39m \u001B[38;5;28;43mself\u001B[39;49m\u001B[38;5;241;43m.\u001B[39;49m\u001B[43msend\u001B[49m\u001B[43m(\u001B[49m\u001B[43mprep\u001B[49m\u001B[43m,\u001B[49m\u001B[43m \u001B[49m\u001B[38;5;241;43m*\u001B[39;49m\u001B[38;5;241;43m*\u001B[39;49m\u001B[43msend_kwargs\u001B[49m\u001B[43m)\u001B[49m\n\u001B[1;32m    591\u001B[0m \u001B[38;5;28;01mreturn\u001B[39;00m resp\n",
      "File \u001B[0;32m/opt/miniconda3/envs/vlm-in-robotics/lib/python3.10/site-packages/requests/sessions.py:703\u001B[0m, in \u001B[0;36mSession.send\u001B[0;34m(self, request, **kwargs)\u001B[0m\n\u001B[1;32m    700\u001B[0m start \u001B[38;5;241m=\u001B[39m preferred_clock()\n\u001B[1;32m    702\u001B[0m \u001B[38;5;66;03m# Send the request\u001B[39;00m\n\u001B[0;32m--> 703\u001B[0m r \u001B[38;5;241m=\u001B[39m \u001B[43madapter\u001B[49m\u001B[38;5;241;43m.\u001B[39;49m\u001B[43msend\u001B[49m\u001B[43m(\u001B[49m\u001B[43mrequest\u001B[49m\u001B[43m,\u001B[49m\u001B[43m \u001B[49m\u001B[38;5;241;43m*\u001B[39;49m\u001B[38;5;241;43m*\u001B[39;49m\u001B[43mkwargs\u001B[49m\u001B[43m)\u001B[49m\n\u001B[1;32m    705\u001B[0m \u001B[38;5;66;03m# Total elapsed time of the request (approximately)\u001B[39;00m\n\u001B[1;32m    706\u001B[0m elapsed \u001B[38;5;241m=\u001B[39m preferred_clock() \u001B[38;5;241m-\u001B[39m start\n",
      "File \u001B[0;32m/opt/miniconda3/envs/vlm-in-robotics/lib/python3.10/site-packages/requests/adapters.py:667\u001B[0m, in \u001B[0;36mHTTPAdapter.send\u001B[0;34m(self, request, stream, timeout, verify, cert, proxies)\u001B[0m\n\u001B[1;32m    664\u001B[0m     timeout \u001B[38;5;241m=\u001B[39m TimeoutSauce(connect\u001B[38;5;241m=\u001B[39mtimeout, read\u001B[38;5;241m=\u001B[39mtimeout)\n\u001B[1;32m    666\u001B[0m \u001B[38;5;28;01mtry\u001B[39;00m:\n\u001B[0;32m--> 667\u001B[0m     resp \u001B[38;5;241m=\u001B[39m \u001B[43mconn\u001B[49m\u001B[38;5;241;43m.\u001B[39;49m\u001B[43murlopen\u001B[49m\u001B[43m(\u001B[49m\n\u001B[1;32m    668\u001B[0m \u001B[43m        \u001B[49m\u001B[43mmethod\u001B[49m\u001B[38;5;241;43m=\u001B[39;49m\u001B[43mrequest\u001B[49m\u001B[38;5;241;43m.\u001B[39;49m\u001B[43mmethod\u001B[49m\u001B[43m,\u001B[49m\n\u001B[1;32m    669\u001B[0m \u001B[43m        \u001B[49m\u001B[43murl\u001B[49m\u001B[38;5;241;43m=\u001B[39;49m\u001B[43murl\u001B[49m\u001B[43m,\u001B[49m\n\u001B[1;32m    670\u001B[0m \u001B[43m        \u001B[49m\u001B[43mbody\u001B[49m\u001B[38;5;241;43m=\u001B[39;49m\u001B[43mrequest\u001B[49m\u001B[38;5;241;43m.\u001B[39;49m\u001B[43mbody\u001B[49m\u001B[43m,\u001B[49m\n\u001B[1;32m    671\u001B[0m \u001B[43m        \u001B[49m\u001B[43mheaders\u001B[49m\u001B[38;5;241;43m=\u001B[39;49m\u001B[43mrequest\u001B[49m\u001B[38;5;241;43m.\u001B[39;49m\u001B[43mheaders\u001B[49m\u001B[43m,\u001B[49m\n\u001B[1;32m    672\u001B[0m \u001B[43m        \u001B[49m\u001B[43mredirect\u001B[49m\u001B[38;5;241;43m=\u001B[39;49m\u001B[38;5;28;43;01mFalse\u001B[39;49;00m\u001B[43m,\u001B[49m\n\u001B[1;32m    673\u001B[0m \u001B[43m        \u001B[49m\u001B[43massert_same_host\u001B[49m\u001B[38;5;241;43m=\u001B[39;49m\u001B[38;5;28;43;01mFalse\u001B[39;49;00m\u001B[43m,\u001B[49m\n\u001B[1;32m    674\u001B[0m \u001B[43m        \u001B[49m\u001B[43mpreload_content\u001B[49m\u001B[38;5;241;43m=\u001B[39;49m\u001B[38;5;28;43;01mFalse\u001B[39;49;00m\u001B[43m,\u001B[49m\n\u001B[1;32m    675\u001B[0m \u001B[43m        \u001B[49m\u001B[43mdecode_content\u001B[49m\u001B[38;5;241;43m=\u001B[39;49m\u001B[38;5;28;43;01mFalse\u001B[39;49;00m\u001B[43m,\u001B[49m\n\u001B[1;32m    676\u001B[0m \u001B[43m        \u001B[49m\u001B[43mretries\u001B[49m\u001B[38;5;241;43m=\u001B[39;49m\u001B[38;5;28;43mself\u001B[39;49m\u001B[38;5;241;43m.\u001B[39;49m\u001B[43mmax_retries\u001B[49m\u001B[43m,\u001B[49m\n\u001B[1;32m    677\u001B[0m \u001B[43m        \u001B[49m\u001B[43mtimeout\u001B[49m\u001B[38;5;241;43m=\u001B[39;49m\u001B[43mtimeout\u001B[49m\u001B[43m,\u001B[49m\n\u001B[1;32m    678\u001B[0m \u001B[43m        \u001B[49m\u001B[43mchunked\u001B[49m\u001B[38;5;241;43m=\u001B[39;49m\u001B[43mchunked\u001B[49m\u001B[43m,\u001B[49m\n\u001B[1;32m    679\u001B[0m \u001B[43m    \u001B[49m\u001B[43m)\u001B[49m\n\u001B[1;32m    681\u001B[0m \u001B[38;5;28;01mexcept\u001B[39;00m (ProtocolError, \u001B[38;5;167;01mOSError\u001B[39;00m) \u001B[38;5;28;01mas\u001B[39;00m err:\n\u001B[1;32m    682\u001B[0m     \u001B[38;5;28;01mraise\u001B[39;00m \u001B[38;5;167;01mConnectionError\u001B[39;00m(err, request\u001B[38;5;241m=\u001B[39mrequest)\n",
      "File \u001B[0;32m/opt/miniconda3/envs/vlm-in-robotics/lib/python3.10/site-packages/urllib3/connectionpool.py:787\u001B[0m, in \u001B[0;36mHTTPConnectionPool.urlopen\u001B[0;34m(self, method, url, body, headers, retries, redirect, assert_same_host, timeout, pool_timeout, release_conn, chunked, body_pos, preload_content, decode_content, **response_kw)\u001B[0m\n\u001B[1;32m    784\u001B[0m response_conn \u001B[38;5;241m=\u001B[39m conn \u001B[38;5;28;01mif\u001B[39;00m \u001B[38;5;129;01mnot\u001B[39;00m release_conn \u001B[38;5;28;01melse\u001B[39;00m \u001B[38;5;28;01mNone\u001B[39;00m\n\u001B[1;32m    786\u001B[0m \u001B[38;5;66;03m# Make the request on the HTTPConnection object\u001B[39;00m\n\u001B[0;32m--> 787\u001B[0m response \u001B[38;5;241m=\u001B[39m \u001B[38;5;28;43mself\u001B[39;49m\u001B[38;5;241;43m.\u001B[39;49m\u001B[43m_make_request\u001B[49m\u001B[43m(\u001B[49m\n\u001B[1;32m    788\u001B[0m \u001B[43m    \u001B[49m\u001B[43mconn\u001B[49m\u001B[43m,\u001B[49m\n\u001B[1;32m    789\u001B[0m \u001B[43m    \u001B[49m\u001B[43mmethod\u001B[49m\u001B[43m,\u001B[49m\n\u001B[1;32m    790\u001B[0m \u001B[43m    \u001B[49m\u001B[43murl\u001B[49m\u001B[43m,\u001B[49m\n\u001B[1;32m    791\u001B[0m \u001B[43m    \u001B[49m\u001B[43mtimeout\u001B[49m\u001B[38;5;241;43m=\u001B[39;49m\u001B[43mtimeout_obj\u001B[49m\u001B[43m,\u001B[49m\n\u001B[1;32m    792\u001B[0m \u001B[43m    \u001B[49m\u001B[43mbody\u001B[49m\u001B[38;5;241;43m=\u001B[39;49m\u001B[43mbody\u001B[49m\u001B[43m,\u001B[49m\n\u001B[1;32m    793\u001B[0m \u001B[43m    \u001B[49m\u001B[43mheaders\u001B[49m\u001B[38;5;241;43m=\u001B[39;49m\u001B[43mheaders\u001B[49m\u001B[43m,\u001B[49m\n\u001B[1;32m    794\u001B[0m \u001B[43m    \u001B[49m\u001B[43mchunked\u001B[49m\u001B[38;5;241;43m=\u001B[39;49m\u001B[43mchunked\u001B[49m\u001B[43m,\u001B[49m\n\u001B[1;32m    795\u001B[0m \u001B[43m    \u001B[49m\u001B[43mretries\u001B[49m\u001B[38;5;241;43m=\u001B[39;49m\u001B[43mretries\u001B[49m\u001B[43m,\u001B[49m\n\u001B[1;32m    796\u001B[0m \u001B[43m    \u001B[49m\u001B[43mresponse_conn\u001B[49m\u001B[38;5;241;43m=\u001B[39;49m\u001B[43mresponse_conn\u001B[49m\u001B[43m,\u001B[49m\n\u001B[1;32m    797\u001B[0m \u001B[43m    \u001B[49m\u001B[43mpreload_content\u001B[49m\u001B[38;5;241;43m=\u001B[39;49m\u001B[43mpreload_content\u001B[49m\u001B[43m,\u001B[49m\n\u001B[1;32m    798\u001B[0m \u001B[43m    \u001B[49m\u001B[43mdecode_content\u001B[49m\u001B[38;5;241;43m=\u001B[39;49m\u001B[43mdecode_content\u001B[49m\u001B[43m,\u001B[49m\n\u001B[1;32m    799\u001B[0m \u001B[43m    \u001B[49m\u001B[38;5;241;43m*\u001B[39;49m\u001B[38;5;241;43m*\u001B[39;49m\u001B[43mresponse_kw\u001B[49m\u001B[43m,\u001B[49m\n\u001B[1;32m    800\u001B[0m \u001B[43m\u001B[49m\u001B[43m)\u001B[49m\n\u001B[1;32m    802\u001B[0m \u001B[38;5;66;03m# Everything went great!\u001B[39;00m\n\u001B[1;32m    803\u001B[0m clean_exit \u001B[38;5;241m=\u001B[39m \u001B[38;5;28;01mTrue\u001B[39;00m\n",
      "File \u001B[0;32m/opt/miniconda3/envs/vlm-in-robotics/lib/python3.10/site-packages/urllib3/connectionpool.py:534\u001B[0m, in \u001B[0;36mHTTPConnectionPool._make_request\u001B[0;34m(self, conn, method, url, body, headers, retries, timeout, chunked, response_conn, preload_content, decode_content, enforce_content_length)\u001B[0m\n\u001B[1;32m    532\u001B[0m \u001B[38;5;66;03m# Receive the response from the server\u001B[39;00m\n\u001B[1;32m    533\u001B[0m \u001B[38;5;28;01mtry\u001B[39;00m:\n\u001B[0;32m--> 534\u001B[0m     response \u001B[38;5;241m=\u001B[39m \u001B[43mconn\u001B[49m\u001B[38;5;241;43m.\u001B[39;49m\u001B[43mgetresponse\u001B[49m\u001B[43m(\u001B[49m\u001B[43m)\u001B[49m\n\u001B[1;32m    535\u001B[0m \u001B[38;5;28;01mexcept\u001B[39;00m (BaseSSLError, \u001B[38;5;167;01mOSError\u001B[39;00m) \u001B[38;5;28;01mas\u001B[39;00m e:\n\u001B[1;32m    536\u001B[0m     \u001B[38;5;28mself\u001B[39m\u001B[38;5;241m.\u001B[39m_raise_timeout(err\u001B[38;5;241m=\u001B[39me, url\u001B[38;5;241m=\u001B[39murl, timeout_value\u001B[38;5;241m=\u001B[39mread_timeout)\n",
      "File \u001B[0;32m/opt/miniconda3/envs/vlm-in-robotics/lib/python3.10/site-packages/urllib3/connection.py:516\u001B[0m, in \u001B[0;36mHTTPConnection.getresponse\u001B[0;34m(self)\u001B[0m\n\u001B[1;32m    513\u001B[0m _shutdown \u001B[38;5;241m=\u001B[39m \u001B[38;5;28mgetattr\u001B[39m(\u001B[38;5;28mself\u001B[39m\u001B[38;5;241m.\u001B[39msock, \u001B[38;5;124m\"\u001B[39m\u001B[38;5;124mshutdown\u001B[39m\u001B[38;5;124m\"\u001B[39m, \u001B[38;5;28;01mNone\u001B[39;00m)\n\u001B[1;32m    515\u001B[0m \u001B[38;5;66;03m# Get the response from http.client.HTTPConnection\u001B[39;00m\n\u001B[0;32m--> 516\u001B[0m httplib_response \u001B[38;5;241m=\u001B[39m \u001B[38;5;28;43msuper\u001B[39;49m\u001B[43m(\u001B[49m\u001B[43m)\u001B[49m\u001B[38;5;241;43m.\u001B[39;49m\u001B[43mgetresponse\u001B[49m\u001B[43m(\u001B[49m\u001B[43m)\u001B[49m\n\u001B[1;32m    518\u001B[0m \u001B[38;5;28;01mtry\u001B[39;00m:\n\u001B[1;32m    519\u001B[0m     assert_header_parsing(httplib_response\u001B[38;5;241m.\u001B[39mmsg)\n",
      "File \u001B[0;32m/opt/miniconda3/envs/vlm-in-robotics/lib/python3.10/http/client.py:1375\u001B[0m, in \u001B[0;36mHTTPConnection.getresponse\u001B[0;34m(self)\u001B[0m\n\u001B[1;32m   1373\u001B[0m \u001B[38;5;28;01mtry\u001B[39;00m:\n\u001B[1;32m   1374\u001B[0m     \u001B[38;5;28;01mtry\u001B[39;00m:\n\u001B[0;32m-> 1375\u001B[0m         \u001B[43mresponse\u001B[49m\u001B[38;5;241;43m.\u001B[39;49m\u001B[43mbegin\u001B[49m\u001B[43m(\u001B[49m\u001B[43m)\u001B[49m\n\u001B[1;32m   1376\u001B[0m     \u001B[38;5;28;01mexcept\u001B[39;00m \u001B[38;5;167;01mConnectionError\u001B[39;00m:\n\u001B[1;32m   1377\u001B[0m         \u001B[38;5;28mself\u001B[39m\u001B[38;5;241m.\u001B[39mclose()\n",
      "File \u001B[0;32m/opt/miniconda3/envs/vlm-in-robotics/lib/python3.10/http/client.py:318\u001B[0m, in \u001B[0;36mHTTPResponse.begin\u001B[0;34m(self)\u001B[0m\n\u001B[1;32m    316\u001B[0m \u001B[38;5;66;03m# read until we get a non-100 response\u001B[39;00m\n\u001B[1;32m    317\u001B[0m \u001B[38;5;28;01mwhile\u001B[39;00m \u001B[38;5;28;01mTrue\u001B[39;00m:\n\u001B[0;32m--> 318\u001B[0m     version, status, reason \u001B[38;5;241m=\u001B[39m \u001B[38;5;28;43mself\u001B[39;49m\u001B[38;5;241;43m.\u001B[39;49m\u001B[43m_read_status\u001B[49m\u001B[43m(\u001B[49m\u001B[43m)\u001B[49m\n\u001B[1;32m    319\u001B[0m     \u001B[38;5;28;01mif\u001B[39;00m status \u001B[38;5;241m!=\u001B[39m CONTINUE:\n\u001B[1;32m    320\u001B[0m         \u001B[38;5;28;01mbreak\u001B[39;00m\n",
      "File \u001B[0;32m/opt/miniconda3/envs/vlm-in-robotics/lib/python3.10/http/client.py:279\u001B[0m, in \u001B[0;36mHTTPResponse._read_status\u001B[0;34m(self)\u001B[0m\n\u001B[1;32m    278\u001B[0m \u001B[38;5;28;01mdef\u001B[39;00m\u001B[38;5;250m \u001B[39m\u001B[38;5;21m_read_status\u001B[39m(\u001B[38;5;28mself\u001B[39m):\n\u001B[0;32m--> 279\u001B[0m     line \u001B[38;5;241m=\u001B[39m \u001B[38;5;28mstr\u001B[39m(\u001B[38;5;28;43mself\u001B[39;49m\u001B[38;5;241;43m.\u001B[39;49m\u001B[43mfp\u001B[49m\u001B[38;5;241;43m.\u001B[39;49m\u001B[43mreadline\u001B[49m\u001B[43m(\u001B[49m\u001B[43m_MAXLINE\u001B[49m\u001B[43m \u001B[49m\u001B[38;5;241;43m+\u001B[39;49m\u001B[43m \u001B[49m\u001B[38;5;241;43m1\u001B[39;49m\u001B[43m)\u001B[49m, \u001B[38;5;124m\"\u001B[39m\u001B[38;5;124miso-8859-1\u001B[39m\u001B[38;5;124m\"\u001B[39m)\n\u001B[1;32m    280\u001B[0m     \u001B[38;5;28;01mif\u001B[39;00m \u001B[38;5;28mlen\u001B[39m(line) \u001B[38;5;241m>\u001B[39m _MAXLINE:\n\u001B[1;32m    281\u001B[0m         \u001B[38;5;28;01mraise\u001B[39;00m LineTooLong(\u001B[38;5;124m\"\u001B[39m\u001B[38;5;124mstatus line\u001B[39m\u001B[38;5;124m\"\u001B[39m)\n",
      "File \u001B[0;32m/opt/miniconda3/envs/vlm-in-robotics/lib/python3.10/socket.py:705\u001B[0m, in \u001B[0;36mSocketIO.readinto\u001B[0;34m(self, b)\u001B[0m\n\u001B[1;32m    703\u001B[0m \u001B[38;5;28;01mwhile\u001B[39;00m \u001B[38;5;28;01mTrue\u001B[39;00m:\n\u001B[1;32m    704\u001B[0m     \u001B[38;5;28;01mtry\u001B[39;00m:\n\u001B[0;32m--> 705\u001B[0m         \u001B[38;5;28;01mreturn\u001B[39;00m \u001B[38;5;28;43mself\u001B[39;49m\u001B[38;5;241;43m.\u001B[39;49m\u001B[43m_sock\u001B[49m\u001B[38;5;241;43m.\u001B[39;49m\u001B[43mrecv_into\u001B[49m\u001B[43m(\u001B[49m\u001B[43mb\u001B[49m\u001B[43m)\u001B[49m\n\u001B[1;32m    706\u001B[0m     \u001B[38;5;28;01mexcept\u001B[39;00m timeout:\n\u001B[1;32m    707\u001B[0m         \u001B[38;5;28mself\u001B[39m\u001B[38;5;241m.\u001B[39m_timeout_occurred \u001B[38;5;241m=\u001B[39m \u001B[38;5;28;01mTrue\u001B[39;00m\n",
      "\u001B[0;31mKeyboardInterrupt\u001B[0m: "
     ]
    }
   ],
   "source": [
    "experiment3.run()"
   ]
  },
  {
   "cell_type": "code",
   "execution_count": 5,
   "id": "4f37cfb8",
   "metadata": {},
   "outputs": [
    {
     "name": "stdout",
     "output_type": "stream",
     "text": [
      "INITIALIZING cogact_base\n"
     ]
    },
    {
     "name": "stderr",
     "output_type": "stream",
     "text": [
      "[2025-04-25 07:21:00.404] [svulkan2] [warning] A second renderer will share the same internal context with the first one. Arguments passed to constructor will be ignored.\n",
      "/opt/miniconda3/envs/vlm-in-robotics/lib/python3.10/site-packages/gymnasium/core.py:311: UserWarning: \u001B[33mWARN: env.get_language_instruction to get variables from other wrappers is deprecated and will be removed in v1.0, to get this variable you can do `env.unwrapped.get_language_instruction` for environment variables or `env.get_wrapper_attr('get_language_instruction')` that will search the reminding wrappers.\u001B[0m\n",
      "  logger.warn(\n"
     ]
    }
   ],
   "source": [
    "experiment4 = Experiment(tasks = [\"google_robot_open_drawer\"], prompts=[], n_episodes=30, fps=10, experiment_name=\"cogact_base\")"
   ]
  },
  {
   "cell_type": "code",
   "execution_count": null,
   "id": "583501fb",
   "metadata": {},
   "outputs": [
    {
     "name": "stdout",
     "output_type": "stream",
     "text": [
      "RUNNING google_robot_open_drawer with prompt open middle drawer\n"
     ]
    },
    {
     "name": "stderr",
     "output_type": "stream",
     "text": [
      "[2025-04-25 07:21:10.635] [svulkan2] [warning] A second renderer will share the same internal context with the first one. Arguments passed to constructor will be ignored.\n"
     ]
    },
    {
     "name": "stdout",
     "output_type": "stream",
     "text": [
      "TRYING 0/30\n"
     ]
    },
    {
     "name": "stderr",
     "output_type": "stream",
     "text": [
      "/opt/miniconda3/envs/vlm-in-robotics/lib/python3.10/site-packages/gymnasium/core.py:311: UserWarning: \u001B[33mWARN: env.robot_uid to get variables from other wrappers is deprecated and will be removed in v1.0, to get this variable you can do `env.unwrapped.robot_uid` for environment variables or `env.get_wrapper_attr('robot_uid')` that will search the reminding wrappers.\u001B[0m\n",
      "  logger.warn(\n"
     ]
    },
    {
     "name": "stdout",
     "output_type": "stream",
     "text": [
      "[google_robot_open_drawer] ep 00 → ✓ | steps= 27 | path= 0.816 m | coll= 7 | saved→ cogact_base/google_robot_open_drawer/episode_00_success.mp4\n",
      "TRYING 1/30\n",
      "[google_robot_open_drawer] ep 01 → ✗ | steps=113 | path= 1.484 m | coll=11 | saved→ cogact_base/google_robot_open_drawer/episode_01_fail.mp4\n",
      "TRYING 2/30\n",
      "[google_robot_open_drawer] ep 02 → ✗ | steps=113 | path= 2.359 m | coll=13 | saved→ cogact_base/google_robot_open_drawer/episode_02_fail.mp4\n",
      "TRYING 3/30\n",
      "[google_robot_open_drawer] ep 03 → ✗ | steps=113 | path= 2.633 m | coll=13 | saved→ cogact_base/google_robot_open_drawer/episode_03_fail.mp4\n",
      "TRYING 4/30\n",
      "[google_robot_open_drawer] ep 04 → ✓ | steps= 27 | path= 0.872 m | coll= 7 | saved→ cogact_base/google_robot_open_drawer/episode_04_success.mp4\n",
      "TRYING 5/30\n",
      "[google_robot_open_drawer] ep 05 → ✗ | steps=113 | path= 2.376 m | coll= 4 | saved→ cogact_base/google_robot_open_drawer/episode_05_fail.mp4\n",
      "TRYING 6/30\n",
      "[google_robot_open_drawer] ep 06 → ✗ | steps=113 | path= 2.558 m | coll=13 | saved→ cogact_base/google_robot_open_drawer/episode_06_fail.mp4\n",
      "TRYING 7/30\n",
      "[google_robot_open_drawer] ep 07 → ✗ | steps=113 | path= 1.089 m | coll=11 | saved→ cogact_base/google_robot_open_drawer/episode_07_fail.mp4\n",
      "TRYING 8/30\n",
      "[google_robot_open_drawer] ep 08 → ✗ | steps=113 | path= 1.897 m | coll= 8 | saved→ cogact_base/google_robot_open_drawer/episode_08_fail.mp4\n",
      "TRYING 9/30\n"
     ]
    }
   ],
   "source": [
    "experiment4.run()"
   ]
  },
  {
   "cell_type": "code",
   "execution_count": null,
   "id": "3276f054",
   "metadata": {},
   "outputs": [],
   "source": []
  }
 ],
 "metadata": {
  "kernelspec": {
   "display_name": "vlm-in-robotics",
   "language": "python",
   "name": "python3"
  },
  "language_info": {
   "codemirror_mode": {
    "name": "ipython",
    "version": 3
   },
   "file_extension": ".py",
   "mimetype": "text/x-python",
   "name": "python",
   "nbconvert_exporter": "python",
   "pygments_lexer": "ipython3",
   "version": "3.10.13"
  }
 },
 "nbformat": 4,
 "nbformat_minor": 5
}
