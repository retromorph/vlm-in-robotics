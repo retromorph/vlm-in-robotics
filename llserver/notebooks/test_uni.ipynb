{
 "cells": [
  {
   "cell_type": "code",
   "execution_count": 1,
   "metadata": {},
   "outputs": [],
   "source": [
    "%load_ext autoreload\n",
    "%autoreload 2"
   ]
  },
  {
   "cell_type": "code",
   "execution_count": 2,
   "metadata": {},
   "outputs": [],
   "source": [
    "import time\n",
    "from llserver.utils.handler import UniserverHandler"
   ]
  },
  {
   "cell_type": "code",
   "execution_count": 3,
   "metadata": {},
   "outputs": [
    {
     "name": "stdout",
     "output_type": "stream",
     "text": [
      "Error: {'status': 'Server is not working', 'error': \"HTTPConnectionPool(host='127.0.0.1', port=8000): Max retries exceeded with url: / (Caused by NewConnectionError('<urllib3.connection.HTTPConnection object at 0x75f21ab13700>: Failed to establish a new connection: [Errno 111] Connection refused'))\"}\n"
     ]
    }
   ],
   "source": [
    "handler = UniserverHandler(port=8000)"
   ]
  },
  {
   "cell_type": "code",
   "execution_count": 42,
   "metadata": {},
   "outputs": [
    {
     "data": {
      "text/plain": [
       "{'running_models': {'models': {'2cbd1bf6-f205-46dc-9bd9-2b58812f74b8': {'model_name': 'lera_api',\n",
       "    'model_id': '2cbd1bf6-f205-46dc-9bd9-2b58812f74b8',\n",
       "    'container_id': 'd011acaced1918b33372314d8b936f87fd16c08e8327d117c3681ec69cf7d68e',\n",
       "    'port': 8081},\n",
       "   '26751d6d-d0d3-4ef5-929e-e6a43cc83bab': {'model_name': 'lera_api',\n",
       "    'model_id': '26751d6d-d0d3-4ef5-929e-e6a43cc83bab',\n",
       "    'container_id': '410f8a7058a96e2e9743737f8895da59363fe19ec4f89d04644b0e02cf529bcf',\n",
       "    'port': 8082},\n",
       "   '2da1acac-0703-4bb2-a517-88f7fb314706': {'model_name': 'lera_api',\n",
       "    'model_id': '2da1acac-0703-4bb2-a517-88f7fb314706',\n",
       "    'container_id': '82f5e6ad6f6cdccd0fc613308b434d529e3b3316b93a3ec8ec0436c95d1f8c3c',\n",
       "    'port': 8083}}}}"
      ]
     },
     "execution_count": 42,
     "metadata": {},
     "output_type": "execute_result"
    }
   ],
   "source": [
    "handler.get_running_models()"
   ]
  },
  {
   "cell_type": "code",
   "execution_count": 21,
   "metadata": {},
   "outputs": [
    {
     "data": {
      "text/plain": [
       "{'model_name': 'api_model',\n",
       " 'status': 'Model started',\n",
       " 'container_id': '83e3379edc87da87b2960c11c9ed018717cc79fe086b7d8dc4ecbc6aa441b5dd',\n",
       " 'port': 8081,\n",
       " 'model_id': 'bb96fff6-4b1e-4c7e-bf2f-c1d78b433026'}"
      ]
     },
     "execution_count": 21,
     "metadata": {},
     "output_type": "execute_result"
    }
   ],
   "source": [
    "handler.start_model(\"api_model\")"
   ]
  },
  {
   "cell_type": "code",
   "execution_count": null,
   "metadata": {},
   "outputs": [],
   "source": [
    "info = handler.get_running_models()\n",
    "model_id = list(info[\"running_models\"][\"models\"].keys())[0]\n",
    "model_id"
   ]
  },
  {
   "cell_type": "code",
   "execution_count": 43,
   "metadata": {},
   "outputs": [
    {
     "name": "stdout",
     "output_type": "stream",
     "text": [
      "{'model_id': '2cbd1bf6-f205-46dc-9bd9-2b58812f74b8', 'status': 'Model stopped', 'container_id': 'd011acaced1918b33372314d8b936f87fd16c08e8327d117c3681ec69cf7d68e', 'port': 8081}\n",
      "{'model_id': '26751d6d-d0d3-4ef5-929e-e6a43cc83bab', 'status': 'Model stopped', 'container_id': '410f8a7058a96e2e9743737f8895da59363fe19ec4f89d04644b0e02cf529bcf', 'port': 8082}\n",
      "{'model_id': '2da1acac-0703-4bb2-a517-88f7fb314706', 'status': 'Model stopped', 'container_id': '82f5e6ad6f6cdccd0fc613308b434d529e3b3316b93a3ec8ec0436c95d1f8c3c', 'port': 8083}\n"
     ]
    }
   ],
   "source": [
    "handler.stop_all_models()"
   ]
  },
  {
   "cell_type": "code",
   "execution_count": null,
   "metadata": {},
   "outputs": [],
   "source": []
  },
  {
   "cell_type": "code",
   "execution_count": 22,
   "metadata": {},
   "outputs": [
    {
     "name": "stdout",
     "output_type": "stream",
     "text": [
      "{'model_id': 'bb96fff6-4b1e-4c7e-bf2f-c1d78b433026', 'status': 'Model stopped', 'container_id': '83e3379edc87da87b2960c11c9ed018717cc79fe086b7d8dc4ecbc6aa441b5dd', 'port': 8081}\n",
      "Started model instance 1 with ID 114d6cc2-f43c-4715-8e92-5be0c521432e\n",
      "Started model instance 2 with ID 6896f906-b882-49bb-9f26-af4663883ae3\n"
     ]
    }
   ],
   "source": [
    "# Stress test: start 3 instances of the same model and make 5 requests to each\n",
    "\n",
    "handler.stop_all_models()\n",
    "\n",
    "# Start 3 instances of the same model\n",
    "model_name = \"api_model\"\n",
    "model_ids = []\n",
    "\n",
    "model_number = 2\n",
    "task_number = 10\n",
    "\n",
    "for i in range(model_number):\n",
    "    start_response = handler.start_model(model_name)\n",
    "    model_id = start_response[\"model_id\"]\n",
    "    model_ids.append(model_id)\n",
    "    print(f\"Started model instance {i+1} with ID {model_id}\")"
   ]
  },
  {
   "cell_type": "code",
   "execution_count": 18,
   "metadata": {},
   "outputs": [
    {
     "data": {
      "text/plain": [
       "{'running_models': {'models': {'949c6169-db8e-4772-9d6f-5440a698cc2d': {'model_name': 'lera_api',\n",
       "    'model_id': '949c6169-db8e-4772-9d6f-5440a698cc2d',\n",
       "    'container_id': '691aaeb9ad0156d8719672e9380299d4ac4713717e6f18faa370cc45653f84ec',\n",
       "    'port': 8081}}}}"
      ]
     },
     "execution_count": 18,
     "metadata": {},
     "output_type": "execute_result"
    }
   ],
   "source": [
    "info = handler.get_running_models()\n",
    "model_ids = list(info[\"running_models\"][\"models\"].keys())\n",
    "info\n"
   ]
  },
  {
   "cell_type": "code",
   "execution_count": 8,
   "metadata": {},
   "outputs": [],
   "source": [
    "model_id = model_ids[0]"
   ]
  },
  {
   "cell_type": "code",
   "execution_count": 9,
   "metadata": {},
   "outputs": [
    {
     "name": "stdout",
     "output_type": "stream",
     "text": [
      "5\n",
      "3\n",
      "{'model': 3}\n"
     ]
    }
   ],
   "source": [
    "def foo(a, **kwargs):\n",
    "    print(a)\n",
    "    print(kwargs[\"model\"])\n",
    "    print(kwargs)\n",
    "\n",
    "foo(5, model=3)"
   ]
  },
  {
   "cell_type": "code",
   "execution_count": 9,
   "metadata": {},
   "outputs": [
    {
     "name": "stdout",
     "output_type": "stream",
     "text": [
      "{}\n",
      "{'model_id': '1816bf46-797c-4011-9611-9c2c542b20e5', 'prompt': 'compare images', 'image_paths': ['/llserver/data/metatmp.png', '/llserver/data/metatmp1.png'], 'extra_params': {}}\n",
      "{}\n",
      "{'model_id': '1816bf46-797c-4011-9611-9c2c542b20e5', 'prompt': 'compare images', 'image_paths': ['/llserver/data/metatmp.png', '/llserver/data/metatmp1.png'], 'extra_params': {}}\n",
      "{}\n",
      "{'model_id': '1816bf46-797c-4011-9611-9c2c542b20e5', 'prompt': 'compare images', 'image_paths': ['/llserver/data/metatmp.png', '/llserver/data/metatmp1.png'], 'extra_params': {}}\n",
      "{}\n",
      "{'model_id': '1816bf46-797c-4011-9611-9c2c542b20e5', 'prompt': 'compare images', 'image_paths': ['/llserver/data/metatmp.png', '/llserver/data/metatmp1.png'], 'extra_params': {}}\n",
      "{}\n",
      "{'model_id': '1816bf46-797c-4011-9611-9c2c542b20e5', 'prompt': 'compare images', 'image_paths': ['/llserver/data/metatmp.png', '/llserver/data/metatmp1.png'], 'extra_params': {}}\n",
      "{}\n",
      "{'model_id': '1816bf46-797c-4011-9611-9c2c542b20e5', 'prompt': 'compare images', 'image_paths': ['/llserver/data/metatmp.png', '/llserver/data/metatmp1.png'], 'extra_params': {}}\n",
      "{}\n",
      "{'model_id': '1816bf46-797c-4011-9611-9c2c542b20e5', 'prompt': 'compare images', 'image_paths': ['/llserver/data/metatmp.png', '/llserver/data/metatmp1.png'], 'extra_params': {}}\n",
      "{}\n",
      "{'model_id': '1816bf46-797c-4011-9611-9c2c542b20e5', 'prompt': 'compare images', 'image_paths': ['/llserver/data/metatmp.png', '/llserver/data/metatmp1.png'], 'extra_params': {}}\n",
      "{}\n",
      "{'model_id': '1816bf46-797c-4011-9611-9c2c542b20e5', 'prompt': 'compare images', 'image_paths': ['/llserver/data/metatmp.png', '/llserver/data/metatmp1.png'], 'extra_params': {}}\n",
      "{}\n",
      "{'model_id': '1816bf46-797c-4011-9611-9c2c542b20e5', 'prompt': 'compare images', 'image_paths': ['/llserver/data/metatmp.png', '/llserver/data/metatmp1.png'], 'extra_params': {}}\n"
     ]
    },
    {
     "data": {
      "text/plain": [
       "[{'model_id': '1816bf46-797c-4011-9611-9c2c542b20e5',\n",
       "  'task_id': '5322cf0b-68a1-4174-9829-d6214cca4f09'},\n",
       " {'model_id': '1816bf46-797c-4011-9611-9c2c542b20e5',\n",
       "  'task_id': '2843c2a9-043c-4dc2-945f-c6336eb4f889'},\n",
       " {'model_id': '1816bf46-797c-4011-9611-9c2c542b20e5',\n",
       "  'task_id': '2a9bba38-d2e9-4daa-bf3e-68889df4f5b1'},\n",
       " {'model_id': '1816bf46-797c-4011-9611-9c2c542b20e5',\n",
       "  'task_id': 'ebca0c45-82f6-4349-9990-72d8ea092c06'},\n",
       " {'model_id': '1816bf46-797c-4011-9611-9c2c542b20e5',\n",
       "  'task_id': '91211e3b-d9b6-47af-83d0-ced567b84b0e'},\n",
       " {'model_id': '1816bf46-797c-4011-9611-9c2c542b20e5',\n",
       "  'task_id': 'bf59ce47-e6c3-46ba-9d29-7ac9fa46de9f'},\n",
       " {'model_id': '1816bf46-797c-4011-9611-9c2c542b20e5',\n",
       "  'task_id': '4aac5847-28e0-4530-be96-aea1c960ddcb'},\n",
       " {'model_id': '1816bf46-797c-4011-9611-9c2c542b20e5',\n",
       "  'task_id': 'f44be4b0-7750-4c0f-b6d0-3aca41827377'},\n",
       " {'model_id': '1816bf46-797c-4011-9611-9c2c542b20e5',\n",
       "  'task_id': 'a1e3a7eb-854b-4036-a06d-fcaeb07dd09e'},\n",
       " {'model_id': '1816bf46-797c-4011-9611-9c2c542b20e5',\n",
       "  'task_id': '491cbfb4-ed92-464a-9a73-5a77d7583c6c'}]"
      ]
     },
     "execution_count": 9,
     "metadata": {},
     "output_type": "execute_result"
    }
   ],
   "source": [
    "task_number = 10\n",
    "# # Make task_number requests to each model instance\n",
    "to_recieve_tasks = []\n",
    "\n",
    "for i in range(task_number):\n",
    "    prompt = \"compare images\"\n",
    "    base_path = \"/llserver/data/\"\n",
    "    image_paths = [\n",
    "        base_path + \"metatmp.png\",\n",
    "        base_path + \"metatmp1.png\",\n",
    "    ]\n",
    "    model_name_to_req = \"gemini-pro-1.5\"\n",
    "\n",
    "    put_response = handler.put_task(model_id=model_id, prompt=prompt, image_paths=image_paths)\n",
    "    task_id = put_response[\"task_id\"][\"task_id\"]\n",
    "    to_recieve_tasks.append({\n",
    "        \"model_id\": model_id,\n",
    "        \"task_id\": task_id\n",
    "    })\n",
    "to_recieve_tasks"
   ]
  },
  {
   "cell_type": "code",
   "execution_count": 10,
   "metadata": {},
   "outputs": [
    {
     "name": "stdout",
     "output_type": "stream",
     "text": [
      "====================================================================================================\n",
      "{'model_id': '1816bf46-797c-4011-9611-9c2c542b20e5', 'task_id': '5322cf0b-68a1-4174-9829-d6214cca4f09'}\n",
      "The main difference between the images is the position of the robotic arm and the objects on the table. The robotic arm is moving closer to the table, and there are small spheres (red and blue) and a red cylinder that change positions slightly between the images, likely due to the actions of the robot arm. It appears the robot arm is attempting to manipulate these objects.  The light blue lines coming from the gripper could be visual representations of sensors or force fields.\n",
      "\n",
      "====================================================================================================\n",
      "{'model_id': '1816bf46-797c-4011-9611-9c2c542b20e5', 'task_id': '2843c2a9-043c-4dc2-945f-c6336eb4f889'}\n",
      "The primary difference between the two images is the position of the robotic arm and the objects on the table.\n",
      "\n",
      "* **Robotic Arm:** In the image, the robotic arm is lowered and positioned over a table. Its \"fingers/grippers\" are close to the surface of the table. It looks like the robot is about to perform, or is in the process of performing a task.\n",
      "\n",
      "* **Objects on Table:** On the table, there is a blue and a red ball (or other circular objects), and a small red cylinder or cube. \n",
      "* **Lines on the Arm:** There appears to be lines extending below two of the red robot arm's grippers, suggesting that it is using some form of sensor or tool. One line is very pale blue/cyan and the other pale red/pink. This change suggests an activation or some action associated with these parts of the arm.\n",
      "\n",
      "\n",
      "It looks like the scene depicts a robotic arm interacting with objects on a table, perhaps in a manipulation or sorting task.  The image highlights a specific moment in the process.\n",
      "====================================================================================================\n",
      "{'model_id': '1816bf46-797c-4011-9611-9c2c542b20e5', 'task_id': '2a9bba38-d2e9-4daa-bf3e-68889df4f5b1'}\n",
      "The animated GIF shows a simulated robotic arm interacting with objects on a table. The arm appears to be using a two-pronged gripper.\n",
      "\n",
      "Here are the changes happening in the animation:\n",
      "\n",
      "* **Movement:** The robotic arm moves down towards the table.\n",
      "* **Gripping (implied):** Although we don't see the gripper close, its position suggests it's attempting to grasp a small red cylinder.\n",
      "* **Object Displacement (implied):** It appears the cylinder gets picked up and moved where the arm is as the animation ends.\n",
      "* **Two Spheres:** A blue sphere and what looks like a briefly-glimpsed red sphere are present on the table.  Their relationship to the robot's action is unclear, but they remain static.\n",
      "* **Light Beams:** Two light beams (red and blue) emanate from the gripper, suggesting sensors or guidance systems.\n",
      "\n",
      "In short, the animation depicts a simulated pick-and-place operation with a robotic arm.\n",
      "\n",
      "====================================================================================================\n",
      "{'model_id': '1816bf46-797c-4011-9611-9c2c542b20e5', 'task_id': 'ebca0c45-82f6-4349-9990-72d8ea092c06'}\n",
      "The robot arm is manipulating objects on a table.  The most notable changes are:\n",
      "\n",
      "\n",
      "* **One prong of the gripper has moved.** In the original image, both prongs extended down. Now, one prong remains down while the other has retracted.\n",
      "* **A red cylinder has appeared.**  It was not present in the original image.\n",
      "* **The positions of the small spheres have changed.**  The blue sphere has shifted slightly, and a red sphere that was present in the original image is gone.\n",
      "\n",
      "This suggests the robot arm might be performing a pick-and-place operation, potentially using its gripper to move the small spheres and possibly place the red cylinder.  The cyan lines likely represent the active range or force being applied by the gripper.\n",
      "\n",
      "====================================================================================================\n",
      "{'model_id': '1816bf46-797c-4011-9611-9c2c542b20e5', 'task_id': '91211e3b-d9b6-47af-83d0-ced567b84b0e'}\n",
      "The primary difference between the images is the position of the robotic arm and the objects on the table.  The arm is moving down towards the table and appears to have some sort of gripping mechanism (two prongs).\n",
      "\n",
      "In one frame, the red and blue spheres, and the red cylinder are farther apart. In the next frame, the two prongs are closer to the red sphere, suggesting the robot is attempting to grasp it.  The blue light emanating from one of the prongs might signify some sort of sensor or activation.\n",
      "\n",
      "====================================================================================================\n",
      "{'model_id': '1816bf46-797c-4011-9611-9c2c542b20e5', 'task_id': 'bf59ce47-e6c3-46ba-9d29-7ac9fa46de9f'}\n",
      "The two images are nearly identical, showing a red robotic arm positioned over a wooden-like surface (presumably a table or platform). The key difference lies in the small objects on the surface:\n",
      "\n",
      "* **Original Image:** Shows a small red cylinder and a small blue sphere on the surface.  There are also two small white lines emanating down from the robot's gripper, indicating something like sensors or light beams.  One white line appears near the red cylinder, suggesting targeting or measurement.\n",
      "* **Other Image (implied):**  You haven't provided a second image for comparison. To give you a thorough comparison, please provide the second image. I can then tell you the specific differences.\n",
      "\n",
      "====================================================================================================\n",
      "{'model_id': '1816bf46-797c-4011-9611-9c2c542b20e5', 'task_id': '4aac5847-28e0-4530-be96-aea1c960ddcb'}\n",
      "The images are identical except for the small red and blue objects on the wooden surface.  The red object appears to be a small cube or cylinder. The blue object appears to be a sphere or ball. They are in slightly different locations in each frame, suggesting some kind of movement or manipulation, possibly by the robotic arm. Also, there are faint light blue lines extending downward from the robot's gripper, perhaps indicating some sort of sensor or beam. These lines change position slightly between images, matching the position change of the robot arm.\n",
      "\n",
      "====================================================================================================\n",
      "{'model_id': '1816bf46-797c-4011-9611-9c2c542b20e5', 'task_id': 'f44be4b0-7750-4c0f-b6d0-3aca41827377'}\n",
      "The main difference between the original image and itself (since you haven't provided a second image) is that there is *no* difference.  It's the same image.  \n",
      "\n",
      "If you intended to compare two images, please provide the second one.\n",
      "\n",
      "====================================================================================================\n",
      "{'model_id': '1816bf46-797c-4011-9611-9c2c542b20e5', 'task_id': 'a1e3a7eb-854b-4036-a06d-fcaeb07dd09e'}\n",
      "The main differences between the two images are the positions of the robotic arm and the objects on the table.\n",
      "\n",
      "* **Robotic Arm:** In the image, the red robotic arm is lowered and positioned over the wooden table. It appears to be using a two-pronged tool at its end.  The prongs seem to be emitting a faint light (one red, one light blue).\n",
      "* **Objects on the Table:** There are three small objects on the table: a red cylinder, a blue sphere, and another small red object barely visible near one of the robotic arm's prongs. This last small red object isn't present in other versions of this image sequence, suggesting it has been recently \"picked up\" by the robotic arm, or is a visual glitch.\n",
      "\n",
      "It looks like the robot arm is interacting with the small objects on the table, perhaps picking and placing them. The image captures a moment in this process.\n",
      "\n",
      "====================================================================================================\n",
      "{'model_id': '1816bf46-797c-4011-9611-9c2c542b20e5', 'task_id': '491cbfb4-ed92-464a-9a73-5a77d7583c6c'}\n",
      "The two images are identical except for the positions of the small red and blue spheres and the two vertical blue lines.\n",
      "\n",
      "In the animation, the red sphere is initially close to the robot arm, positioned slightly behind the blue lines which represent the robot's grippers. The blue sphere is further away.  As the animation progresses, the red sphere is pushed further away from the robot arm and the grippers, while the blue sphere remains stationary.  The blue lines move with the gripper.\n",
      "\n"
     ]
    }
   ],
   "source": [
    "for task in to_recieve_tasks:\n",
    "    while True:\n",
    "        result = handler.get_task_result(model_id=task[\"model_id\"], task_id=task[\"task_id\"])\n",
    "        if result[\"status\"] == \"in_progress\":\n",
    "            time.sleep(1)\n",
    "        else:\n",
    "            print(\"=\"*100)\n",
    "            print(task)\n",
    "            print(result[\"result\"])\n",
    "            break\n"
   ]
  },
  {
   "cell_type": "code",
   "execution_count": 23,
   "metadata": {},
   "outputs": [
    {
     "name": "stdout",
     "output_type": "stream",
     "text": [
      "{}\n",
      "{'model_id': '114d6cc2-f43c-4715-8e92-5be0c521432e', 'prompt': 'compare images', 'image_paths': ['/llserver/data/metatmp.png', '/llserver/data/metatmp1.png'], 'extra_params': {}}\n",
      "{}\n",
      "{'model_id': '114d6cc2-f43c-4715-8e92-5be0c521432e', 'prompt': 'compare images', 'image_paths': ['/llserver/data/metatmp.png', '/llserver/data/metatmp1.png'], 'extra_params': {}}\n",
      "{}\n",
      "{'model_id': '114d6cc2-f43c-4715-8e92-5be0c521432e', 'prompt': 'compare images', 'image_paths': ['/llserver/data/metatmp.png', '/llserver/data/metatmp1.png'], 'extra_params': {}}\n",
      "{}\n",
      "{'model_id': '114d6cc2-f43c-4715-8e92-5be0c521432e', 'prompt': 'compare images', 'image_paths': ['/llserver/data/metatmp.png', '/llserver/data/metatmp1.png'], 'extra_params': {}}\n",
      "{}\n",
      "{'model_id': '114d6cc2-f43c-4715-8e92-5be0c521432e', 'prompt': 'compare images', 'image_paths': ['/llserver/data/metatmp.png', '/llserver/data/metatmp1.png'], 'extra_params': {}}\n",
      "{}\n",
      "{'model_id': '114d6cc2-f43c-4715-8e92-5be0c521432e', 'prompt': 'compare images', 'image_paths': ['/llserver/data/metatmp.png', '/llserver/data/metatmp1.png'], 'extra_params': {}}\n",
      "{}\n",
      "{'model_id': '114d6cc2-f43c-4715-8e92-5be0c521432e', 'prompt': 'compare images', 'image_paths': ['/llserver/data/metatmp.png', '/llserver/data/metatmp1.png'], 'extra_params': {}}\n",
      "{}\n",
      "{'model_id': '114d6cc2-f43c-4715-8e92-5be0c521432e', 'prompt': 'compare images', 'image_paths': ['/llserver/data/metatmp.png', '/llserver/data/metatmp1.png'], 'extra_params': {}}\n",
      "{}\n",
      "{'model_id': '114d6cc2-f43c-4715-8e92-5be0c521432e', 'prompt': 'compare images', 'image_paths': ['/llserver/data/metatmp.png', '/llserver/data/metatmp1.png'], 'extra_params': {}}\n",
      "{}\n",
      "{'model_id': '114d6cc2-f43c-4715-8e92-5be0c521432e', 'prompt': 'compare images', 'image_paths': ['/llserver/data/metatmp.png', '/llserver/data/metatmp1.png'], 'extra_params': {}}\n",
      "{}\n",
      "{'model_id': '6896f906-b882-49bb-9f26-af4663883ae3', 'prompt': 'compare images', 'image_paths': ['/llserver/data/metatmp.png', '/llserver/data/metatmp1.png'], 'extra_params': {}}\n",
      "{}\n",
      "{'model_id': '6896f906-b882-49bb-9f26-af4663883ae3', 'prompt': 'compare images', 'image_paths': ['/llserver/data/metatmp.png', '/llserver/data/metatmp1.png'], 'extra_params': {}}\n",
      "{}\n",
      "{'model_id': '6896f906-b882-49bb-9f26-af4663883ae3', 'prompt': 'compare images', 'image_paths': ['/llserver/data/metatmp.png', '/llserver/data/metatmp1.png'], 'extra_params': {}}\n",
      "{}\n",
      "{'model_id': '6896f906-b882-49bb-9f26-af4663883ae3', 'prompt': 'compare images', 'image_paths': ['/llserver/data/metatmp.png', '/llserver/data/metatmp1.png'], 'extra_params': {}}\n",
      "{}\n",
      "{'model_id': '6896f906-b882-49bb-9f26-af4663883ae3', 'prompt': 'compare images', 'image_paths': ['/llserver/data/metatmp.png', '/llserver/data/metatmp1.png'], 'extra_params': {}}\n",
      "{}\n",
      "{'model_id': '6896f906-b882-49bb-9f26-af4663883ae3', 'prompt': 'compare images', 'image_paths': ['/llserver/data/metatmp.png', '/llserver/data/metatmp1.png'], 'extra_params': {}}\n",
      "{}\n",
      "{'model_id': '6896f906-b882-49bb-9f26-af4663883ae3', 'prompt': 'compare images', 'image_paths': ['/llserver/data/metatmp.png', '/llserver/data/metatmp1.png'], 'extra_params': {}}\n",
      "{}\n",
      "{'model_id': '6896f906-b882-49bb-9f26-af4663883ae3', 'prompt': 'compare images', 'image_paths': ['/llserver/data/metatmp.png', '/llserver/data/metatmp1.png'], 'extra_params': {}}\n",
      "{}\n",
      "{'model_id': '6896f906-b882-49bb-9f26-af4663883ae3', 'prompt': 'compare images', 'image_paths': ['/llserver/data/metatmp.png', '/llserver/data/metatmp1.png'], 'extra_params': {}}\n",
      "{}\n",
      "{'model_id': '6896f906-b882-49bb-9f26-af4663883ae3', 'prompt': 'compare images', 'image_paths': ['/llserver/data/metatmp.png', '/llserver/data/metatmp1.png'], 'extra_params': {}}\n"
     ]
    },
    {
     "data": {
      "text/plain": [
       "[{'model_id': '114d6cc2-f43c-4715-8e92-5be0c521432e',\n",
       "  'task_id': 'eaa9beae-b1b8-4fa5-9375-ff280b54fdc2'},\n",
       " {'model_id': '114d6cc2-f43c-4715-8e92-5be0c521432e',\n",
       "  'task_id': '023b17ab-3d49-49b9-8db1-5dceca61c8a0'},\n",
       " {'model_id': '114d6cc2-f43c-4715-8e92-5be0c521432e',\n",
       "  'task_id': 'f5fbdd51-96c4-40ff-bd91-17785faf4606'},\n",
       " {'model_id': '114d6cc2-f43c-4715-8e92-5be0c521432e',\n",
       "  'task_id': '61867605-1d31-481a-bcd1-2f70bb5b33c4'},\n",
       " {'model_id': '114d6cc2-f43c-4715-8e92-5be0c521432e',\n",
       "  'task_id': 'd7915c1d-c55f-49a1-a444-1127f125b6a4'},\n",
       " {'model_id': '114d6cc2-f43c-4715-8e92-5be0c521432e',\n",
       "  'task_id': '2df54992-f8c6-4820-bc94-2bdb1d3ed404'},\n",
       " {'model_id': '114d6cc2-f43c-4715-8e92-5be0c521432e',\n",
       "  'task_id': 'ce04ded8-cb87-4864-b86c-96b63949a165'},\n",
       " {'model_id': '114d6cc2-f43c-4715-8e92-5be0c521432e',\n",
       "  'task_id': 'c45ecb11-4af6-4760-9d53-bb5e7085feb1'},\n",
       " {'model_id': '114d6cc2-f43c-4715-8e92-5be0c521432e',\n",
       "  'task_id': '87251e45-7380-4a09-accd-b1756c216df3'},\n",
       " {'model_id': '114d6cc2-f43c-4715-8e92-5be0c521432e',\n",
       "  'task_id': '819a7085-ef03-4c46-ab26-166c77d586ab'},\n",
       " {'model_id': '6896f906-b882-49bb-9f26-af4663883ae3',\n",
       "  'task_id': '43f0d2ad-788e-41bf-996e-4e3a6bc26f8c'},\n",
       " {'model_id': '6896f906-b882-49bb-9f26-af4663883ae3',\n",
       "  'task_id': '5944eb00-cd91-45f5-8141-b9fede6fdc70'},\n",
       " {'model_id': '6896f906-b882-49bb-9f26-af4663883ae3',\n",
       "  'task_id': '5ca1e98d-64cd-45d3-ae51-971a5e4ab67c'},\n",
       " {'model_id': '6896f906-b882-49bb-9f26-af4663883ae3',\n",
       "  'task_id': 'b3603ff5-b00a-4cff-86f7-5352c573d866'},\n",
       " {'model_id': '6896f906-b882-49bb-9f26-af4663883ae3',\n",
       "  'task_id': '7cd35fe4-c895-488a-b8ec-1c7fbd080b3e'},\n",
       " {'model_id': '6896f906-b882-49bb-9f26-af4663883ae3',\n",
       "  'task_id': '562b7a14-979b-4665-9237-562316bbec31'},\n",
       " {'model_id': '6896f906-b882-49bb-9f26-af4663883ae3',\n",
       "  'task_id': '44c3b496-648c-4a65-abdb-7a0238342c06'},\n",
       " {'model_id': '6896f906-b882-49bb-9f26-af4663883ae3',\n",
       "  'task_id': '08d33aed-388a-495c-a767-fe3e2adbb5d6'},\n",
       " {'model_id': '6896f906-b882-49bb-9f26-af4663883ae3',\n",
       "  'task_id': '6efa4f44-8b11-46f1-a986-ae242c440da8'},\n",
       " {'model_id': '6896f906-b882-49bb-9f26-af4663883ae3',\n",
       "  'task_id': '4bb796b5-0301-43e1-8437-2706b44a1068'}]"
      ]
     },
     "execution_count": 23,
     "metadata": {},
     "output_type": "execute_result"
    }
   ],
   "source": [
    "# # Make task_number requests to each model instance\n",
    "to_recieve_tasks = []\n",
    "for model_id in model_ids:\n",
    "    for i in range(task_number):\n",
    "        prompt = \"compare images\"\n",
    "        base_path = \"/llserver/data/\"\n",
    "        image_paths = [\n",
    "            base_path + \"metatmp.png\",\n",
    "            base_path + \"metatmp1.png\",\n",
    "        ]\n",
    "        model_name_to_req = \"gemini-pro-1.5\"\n",
    "\n",
    "        put_response = handler.put_task(model_id=model_id, prompt=prompt, image_paths=image_paths)\n",
    "        task_id = put_response[\"task_id\"][\"task_id\"]\n",
    "        to_recieve_tasks.append({\n",
    "            \"model_id\": model_id,\n",
    "            \"task_id\": task_id\n",
    "        })\n",
    "to_recieve_tasks"
   ]
  },
  {
   "cell_type": "code",
   "execution_count": 24,
   "metadata": {},
   "outputs": [
    {
     "name": "stdout",
     "output_type": "stream",
     "text": [
      "====================================================================================================\n",
      "{'model_id': '114d6cc2-f43c-4715-8e92-5be0c521432e', 'task_id': 'eaa9beae-b1b8-4fa5-9375-ff280b54fdc2'}\n",
      "The primary difference between the images is the position of the robot arm and the objects on the table. The robot arm is moving down towards the table, and it appears to be manipulating small objects (a red cylinder, a blue sphere, and an unseen object implied by the red pointer). The slight variations in the shades and positions of light reflections on the table also suggest small changes in perspective or lighting between frames.  This indicates these are likely frames from a video or animation sequence.\n",
      "\n",
      "====================================================================================================\n",
      "{'model_id': '114d6cc2-f43c-4715-8e92-5be0c521432e', 'task_id': '023b17ab-3d49-49b9-8db1-5dceca61c8a0'}\n",
      "The two images are very similar, showing a red robotic arm interacting with objects on a wooden surface. The main differences are the positions of the small spheres (red and blue) and the orientation of the robot arm's gripper. The small red cylinder also appears to have moved slightly.  More specifically:\n",
      "\n",
      "* **Sphere Positions:** The red and blue spheres have changed locations relative to each other and the gripper.\n",
      "* **Gripper Orientation:**  The two \"fingers\" of the gripper are slightly more open in the second image.\n",
      "* **Red Cylinder Position:** The small red cylinder appears to have shifted slightly, though this could be due to the camera angle.\n",
      "* **Lighting/Shadows:** While subtle, there might be minor differences in lighting or shadows, possibly indicating a slightly different camera angle or a change in virtual lighting conditions.\n",
      "\n",
      "Essentially, the scene depicts the robot manipulating objects on the table, and the two images represent different moments in that process.\n",
      "\n",
      "====================================================================================================\n",
      "{'model_id': '114d6cc2-f43c-4715-8e92-5be0c521432e', 'task_id': 'f5fbdd51-96c4-40ff-bd91-17785faf4606'}\n",
      "The robot arm is using grippers to pick up small objects (represented by the red and blue spheres).  The grippers seem to be releasing these objects onto a wooden platform or table-like surface.  The red cylinder seems to represent an object already deposited on the platform. The bluish streaks between the gripper and the spheres likely indicate a laser or sensor being used for targeting.\n",
      "====================================================================================================\n",
      "{'model_id': '114d6cc2-f43c-4715-8e92-5be0c521432e', 'task_id': '61867605-1d31-481a-bcd1-2f70bb5b33c4'}\n",
      "The two images are virtually identical, making it hard to spot differences. However, there are some subtle changes in the second image concerning the small objects on the table:\n",
      "\n",
      "* **Two grippers visible:** The robot arm is shown with both grippers extended downwards towards the table's surface.\n",
      "* **Red and blue objects and a red cylinder**: A small blue sphere, a small red sphere near one of the grippers and a small red cylinder are visible on the table. It's unclear whether these were present in the first image or just very small/hidden, the changes suggest these have just been manipulated.\n",
      "* **Light beams**: Subtle light blue beams appear to be emanating downwards from just above the two gripper ends. This effect is absent in Image 1, suggesting some sort of active operation.\n",
      "\n",
      "\n",
      "Since the question instructed only use the provided images, the assumption is that the first image is a still before any interaction has started. The second image is partway through an operation of the robot grippers picking up, depositing, sorting, or otherwise manipulating the small spheres on the table surface.\n",
      "====================================================================================================\n",
      "{'model_id': '114d6cc2-f43c-4715-8e92-5be0c521432e', 'task_id': 'd7915c1d-c55f-49a1-a444-1127f125b6a4'}\n",
      "The two images are nearly identical, with a few key changes:\n",
      "\n",
      "* **Gripper Position/Action:** The robotic arm's gripper is slightly lower in the second image and appears to be closing or pinching.  In the first image, the gripper is open.  Additionally, there are faint light blue lines extending down from the gripper in image 1, suggesting some sort of sensor or action is taking place; these are absent in image 2.\n",
      "\n",
      "* **Red Object:** A small red cylindrical object is present on the surface beneath the robotic arm in the second image. This object is not in the original image.\n",
      "\n",
      "* **Blue Sphere:** A small blue sphere is present further down the wooden surface in the first image. This sphere is absent in the second image.  This suggests the robotic arm may have interacted with the blue sphere.\n",
      "\n",
      "In short, the action appears to involve the robotic arm potentially picking up or interacting with the blue sphere, and then a small red cylinder appears in a different location on the surface.\n",
      "\n",
      "====================================================================================================\n",
      "{'model_id': '114d6cc2-f43c-4715-8e92-5be0c521432e', 'task_id': '2df54992-f8c6-4820-bc94-2bdb1d3ed404'}\n",
      "The two images are identical except for the position of the red and blue spheres and the red cube.  In the animated GIF, these objects move slightly between frames, simulating how they might be manipulated by the robot arm.  The arm itself doesn't change position significantly throughout the animation.\n",
      "\n",
      "====================================================================================================\n",
      "{'model_id': '114d6cc2-f43c-4715-8e92-5be0c521432e', 'task_id': 'ce04ded8-cb87-4864-b86c-96b63949a165'}\n",
      "The main differences between the images are the positions of the small colored spheres (presumably markers or targets of some kind) on the wooden surface, and the position/orientation of the red robotic arm.  The arm has moved down and slightly to the left, and its gripper is closer to the surface.  The small spheres have shifted slightly, suggesting they might be floating on a liquid or reacting to the air currents caused by the robot's movement. Specifically:\n",
      "\n",
      "* **Red Sphere:** In the original image, it's at the base of a clear, light blue, vertical rectangular shape coming down from the gripper. In the second image, it's further away on the surface, near a small red cylinder.\n",
      "* **Blue Sphere:** In the original, it's further from the gripper on the surface. In the second, it's out of frame, assumed to have moved further away due to the actions of the robot.\n",
      "* **Clear Light Blue Rectangle:**  This appears to be a visual representation of either a sensor beam or an air stream coming from the gripper.  Its position changes with the gripper.\n",
      "\n",
      "The scene likely depicts a robotic arm manipulating or interacting with small objects on a fluid surface, potentially using air pressure.\n",
      "\n",
      "====================================================================================================\n",
      "{'model_id': '114d6cc2-f43c-4715-8e92-5be0c521432e', 'task_id': 'c45ecb11-4af6-4760-9d53-bb5e7085feb1'}\n",
      "The main difference between this image and a potential previous one is the position of the robotic arm and the objects on the table.  The arm has moved down and closer to the table surface. There are also small colored spheres (red, blue) and a small red cylinder visible on the table.  The blue ray coming from the robotic arm's \"gripper\" suggests it's possibly interacting with these objects, perhaps using light or sensors.\n",
      "\n",
      "====================================================================================================\n",
      "{'model_id': '114d6cc2-f43c-4715-8e92-5be0c521432e', 'task_id': '87251e45-7380-4a09-accd-b1756c216df3'}\n",
      "The robotic arm has moved closer to the table and is now positioned over it, appearing to be preparing to grasp or interact with the small red cylinder.  The blue sphere remains unchanged in position. The light beams from the gripper are now visible.\n",
      "====================================================================================================\n",
      "{'model_id': '114d6cc2-f43c-4715-8e92-5be0c521432e', 'task_id': '819a7085-ef03-4c46-ab26-166c77d586ab'}\n",
      "The main difference between the images is the position of the robotic arm and the objects on the table. The arm is moving downwards and appears to be about to grip the red piece.  The blue ball hasn't moved.\n",
      "\n",
      "Here's a breakdown:\n",
      "\n",
      "* **Robotic Arm:** In the original gif, the robotic arm is higher up and not touching the table. In subsequent frames it descends, lowering its gripper towards the objects.\n",
      "\n",
      "* **Red Cylinder:** The red cylinder remains mostly stationary, changing position only slightly and apparently due to contact with the robot arm or gripper.\n",
      "\n",
      "* **Blue Sphere:** The blue sphere doesn't appear to move throughout the gif.\n",
      "\n",
      "* **Grippers/Prongs:**  The two prongs extending from the gripper appear to be coming together.  This closing action happens as the arm descends.\n",
      "\n",
      "====================================================================================================\n",
      "{'model_id': '6896f906-b882-49bb-9f26-af4663883ae3', 'task_id': '43f0d2ad-788e-41bf-996e-4e3a6bc26f8c'}\n",
      "The two images show a simulated robotic arm interacting with objects on a table. In the GIF, the arm uses a two-pronged gripper to push a red puck and a blue ball across the table's surface. This demonstrates a simple manipulation task within a simulated environment. The still image is a single frame captured from that animation.\n",
      "====================================================================================================\n",
      "{'model_id': '6896f906-b882-49bb-9f26-af4663883ae3', 'task_id': '5944eb00-cd91-45f5-8141-b9fede6fdc70'}\n",
      "The primary difference between the images is the position of the robotic arm and the objects on the table.  The arm moves closer to the surface of the table, and the small blue and red spheres shift slightly. The light blue line also seems to change in angle between the images. This suggests a sequence of frames from a simulation or video, showing the robot interacting with the objects on the table.\n",
      "\n",
      "====================================================================================================\n",
      "{'model_id': '6896f906-b882-49bb-9f26-af4663883ae3', 'task_id': '5ca1e98d-64cd-45d3-ae51-971a5e4ab67c'}\n",
      "The primary difference between the images is the position of the robot arm and the objects on the table.  The red robotic arm changes its angle and proximity to the table surface. On the table itself, the small red and blue spheres shift position.  It appears the robot arm is manipulating or interacting with these spheres, causing them to move.  The background and the table itself remain unchanged.\n",
      "\n",
      "====================================================================================================\n",
      "{'model_id': '6896f906-b882-49bb-9f26-af4663883ae3', 'task_id': 'b3603ff5-b00a-4cff-86f7-5352c573d866'}\n",
      "The main difference between the images is the position of the robot arm and the objects on the table. The robot arm is moving, and the positions of the red, blue, and clear objects on the table are changing accordingly.  It appears as though the robot is manipulating them with some sort of gripper or tool attached to its end.\n",
      "\n",
      "====================================================================================================\n",
      "{'model_id': '6896f906-b882-49bb-9f26-af4663883ae3', 'task_id': '7cd35fe4-c895-488a-b8ec-1c7fbd080b3e'}\n",
      "The altered image shows a robotic arm with a two-pronged gripper positioned over a shallow wooden box.  Within the box are three small objects:\n",
      "\n",
      "* **A red cylinder:** Located centrally in the box, closer to the robot arm.\n",
      "* **A blue sphere:** Slightly further away from the arm than the red cylinder.\n",
      "* **A small red sphere:** Located directly beneath the left prong of the robot's gripper, closest to it. It's very small and easy to miss.\n",
      "\n",
      "\n",
      "The gripper's prongs also have small, faint, light blue lines extending downwards from their tips, likely indicating some form of sensor or laser.\n",
      "\n",
      "====================================================================================================\n",
      "{'model_id': '6896f906-b882-49bb-9f26-af4663883ae3', 'task_id': '562b7a14-979b-4665-9237-562316bbec31'}\n",
      "The two images show a robotic arm interacting with a sandbox environment containing small objects. Here's a breakdown of the differences:\n",
      "\n",
      "* **Robotic Arm Position/Orientation:** The arm has moved. It's in a different position and its gripper (the end part) has shifted.  In the original image, it's closer to the left side, and in the second image, it is angled more towards the center right of the sandbox.\n",
      "\n",
      "* **Object Positions:** The positions of the red, blue, and red cylindrical objects within the sandbox have changed. The blue sphere has moved.\n",
      "\n",
      "* **Gripper State:**  The gripper appears open in both images.  However, the slight light blue lines near the tips of the gripper fingers suggest some sort of interaction or sensor activation. The placement of these lines in the original frames implies contact or near-contact with the red sphere; in the second frame, while the position of these lines on gripper has not changed, the sphere location has moved, inferring the gripper was moved to interact with a different (the blue) object.\n",
      "\n",
      "\n",
      "It appears that the robot arm is manipulating objects within the sandbox between the two frames. This suggests a sequence or animation of some kind.\n",
      "\n",
      "====================================================================================================\n",
      "{'model_id': '6896f906-b882-49bb-9f26-af4663883ae3', 'task_id': '44c3b496-648c-4a65-abdb-7a0238342c06'}\n",
      "The images are nearly identical except for the objects on the table:\n",
      "\n",
      "* **Original image:** Shows a red robotic arm poised over a wooden table. On the table are three small objects: one red cylinder, one blue sphere, and one tiny red sphere. Two pale blue lines extend downwards from the robotic arm, indicating a line of action or force.\n",
      "* **Cropped Images:** Present different zoomed-in views of the same scene, showing the robot arm, the table, and the objects from different angles.  These cropped images help to clarify the positions of the small objects relative to each other and the robotic arm.\n",
      "\n",
      "Essentially, the cropped images provide close-up details of the original scene without altering its core content.\n",
      "\n",
      "====================================================================================================\n",
      "{'model_id': '6896f906-b882-49bb-9f26-af4663883ae3', 'task_id': '08d33aed-388a-495c-a767-fe3e2adbb5d6'}\n",
      "The main difference between the image is the two prongs extending downwards from the robotic arm. Also, there is a red and blue ball within the brown box.\n",
      "====================================================================================================\n",
      "{'model_id': '6896f906-b882-49bb-9f26-af4663883ae3', 'task_id': '6efa4f44-8b11-46f1-a986-ae242c440da8'}\n",
      "The animated GIF shows a robotic arm manipulating small objects on a wooden surface. The arm appears to be using a two-pronged gripper. There are three small objects: a red one, a blue one, and a barely visible white one that appears attached to one of the gripper's prongs. The arm maneuvers over the table, seemingly interacting with the objects, possibly picking and placing or pushing them. Blue lines appear briefly near the gripper, perhaps indicating sensor readings or planned movement paths.\n",
      "====================================================================================================\n",
      "{'model_id': '6896f906-b882-49bb-9f26-af4663883ae3', 'task_id': '4bb796b5-0301-43e1-8437-2706b44a1068'}\n",
      "The two images are very similar, with the main difference being the presence of small, colorful objects within the table-like structure in the second image.  The red robotic arm is in virtually the same position in both pictures.\n",
      "\n",
      "Here's a breakdown:\n",
      "\n",
      "* **Red Robotic Arm:**  Consistent position and appearance across both images.\n",
      "* **Table/Container:** The wooden table-like container with metal sides is identical in both.\n",
      "* **Small Objects (Image 2 Only):**  The second image contains a small blue sphere, a small red cylinder, and what appears to be two very short, thin, vertical lines (one red, one light blue) just below the robotic arm's gripper. These lines might indicate laser pointers or some type of sensor beams.  These objects are absent in the first image.\n",
      "\n",
      "Therefore, the key change is the addition of the small blue sphere, small red cylinder, and potential sensor indicators within the container in the second image.\n",
      "\n"
     ]
    }
   ],
   "source": [
    "for task in to_recieve_tasks:\n",
    "    while True:\n",
    "        result = handler.get_task_result(model_id=task[\"model_id\"], task_id=task[\"task_id\"])\n",
    "        if result[\"status\"] == \"in_progress\":\n",
    "            time.sleep(1)\n",
    "        else:\n",
    "            print(\"=\"*100)\n",
    "            print(task)\n",
    "            print(result[\"result\"])\n",
    "            break\n"
   ]
  },
  {
   "cell_type": "code",
   "execution_count": 42,
   "metadata": {},
   "outputs": [
    {
     "name": "stdout",
     "output_type": "stream",
     "text": [
      "{'model_id': 'cfa85b5d-ecb3-4b38-83c3-96f44178811e', 'status': 'Model stopped', 'container_id': 'faa1d9bcc26db2d350ef4276a509de040490735d7abfb55cabffe3cbd8692e29', 'port': 8081}\n",
      "{'model_id': '5ead40cc-ed66-4177-b481-6d717df24fd9', 'status': 'Model stopped', 'container_id': '9ba62b72fc8ecd871e279a3f05fa92dcd967da87bb19792d588f1037da1d734c', 'port': 8082}\n",
      "{'model_id': '56cd360c-f3c5-450a-be87-e8a0da303385', 'status': 'Model stopped', 'container_id': 'acb1f56b903c66142fa709ceb851d67eef0682a0ba8194851471ab444127d136', 'port': 8083}\n"
     ]
    }
   ],
   "source": [
    "handler.stop_all_models()"
   ]
  },
  {
   "cell_type": "code",
   "execution_count": 11,
   "metadata": {},
   "outputs": [
    {
     "data": {
      "text/plain": [
       "{'model_name': 'api_model',\n",
       " 'status': 'Model started',\n",
       " 'container_id': '2ff2793fae01b0584303ce73156500153502821d24c23966bbb92952e3dd7eb8',\n",
       " 'port': 8081,\n",
       " 'model_id': '1e778008-2986-4f25-b01a-d5b483f3d1dd'}"
      ]
     },
     "execution_count": 11,
     "metadata": {},
     "output_type": "execute_result"
    }
   ],
   "source": [
    "handler.start_model(\"api_model\")"
   ]
  },
  {
   "cell_type": "code",
   "execution_count": 20,
   "metadata": {},
   "outputs": [
    {
     "data": {
      "text/plain": [
       "{'running_models': {'models': {'ff734668-2e2d-4fc8-a08a-ee14e8023343': {'model_name': 'api_model',\n",
       "    'model_id': 'ff734668-2e2d-4fc8-a08a-ee14e8023343',\n",
       "    'container_id': '306b6f4980687c9ab80f42f9d6bf8f139c7a037e3c3a015383919415a762e71c',\n",
       "    'port': 8081}}}}"
      ]
     },
     "execution_count": 20,
     "metadata": {},
     "output_type": "execute_result"
    }
   ],
   "source": [
    "info = handler.get_running_models()\n",
    "info"
   ]
  },
  {
   "cell_type": "code",
   "execution_count": 21,
   "metadata": {},
   "outputs": [
    {
     "name": "stdout",
     "output_type": "stream",
     "text": [
      "{}\n",
      "{'model_id': 'ff734668-2e2d-4fc8-a08a-ee14e8023343', 'prompt': 'compare images', 'image_paths': ['/llserver/data/metatmp.png', '/llserver/data/metatmp1.png'], 'extra_params': {}}\n"
     ]
    }
   ],
   "source": [
    "model_id = list(info[\"running_models\"][\"models\"].keys())[0]\n",
    "prompt = \"compare images\"\n",
    "\n",
    "base_path = \"/llserver/data/\"\n",
    "image_paths = [\n",
    "    base_path + \"metatmp.png\",\n",
    "    base_path + \"metatmp1.png\",\n",
    "]\n",
    "# model_name_to_req = \"gpt-4o\"\n",
    "# model_name_to_req = \"gemini-pro-1.5\"\n",
    "put_response = handler.put_task(model_id=model_id, prompt=prompt, image_paths=image_paths)\n",
    "task_id = put_response[\"task_id\"][\"task_id\"]"
   ]
  },
  {
   "cell_type": "code",
   "execution_count": 14,
   "metadata": {},
   "outputs": [
    {
     "name": "stdout",
     "output_type": "stream",
     "text": [
      "The animated GIF shows a robotic arm interacting with a sandbox or table containing small objects.  Here's a breakdown of the changes:\n",
      "\n",
      "* **The Arm:** A red robotic arm, likely modeled after a collaborative robot (cobot) due to its rounded design, is manipulating the objects.\n",
      "* **The Objects:** There's a blue sphere, a red cylinder, and possibly a third small red object are already near the center of the table.  The arm appears to be using two prongs or grippers.\n",
      "* **The Action:**  The GIF shows the arm briefly making contact, picking up, or at least influencing the red cylinder. The red object closest to the arm also momentarily disappears. Then red and blue rays shoot out from between the arms prongs, appearing to almost interact with the blue and red objects respectively.\n",
      "* **The Environment:** The objects are placed on a wooden surface within a metal-sided container.  This container rests on a simple wooden stand or table.\n",
      "\n",
      "The sequence suggests some sort of simulated interaction, perhaps a pick-and-place task or a physics simulation related to forces or beams (indicated by the blue and red rays). The disappearing red object might be a bug in the simulation or a deliberate action within the simulated task.\n",
      "\n"
     ]
    }
   ],
   "source": [
    "result = handler.get_task_result(model_id=model_id, task_id=task_id)\n",
    "print(result[\"result\"])"
   ]
  },
  {
   "cell_type": "code",
   "execution_count": null,
   "metadata": {},
   "outputs": [],
   "source": []
  },
  {
   "cell_type": "code",
   "execution_count": null,
   "metadata": {},
   "outputs": [],
   "source": []
  },
  {
   "cell_type": "code",
   "execution_count": null,
   "metadata": {},
   "outputs": [],
   "source": []
  },
  {
   "cell_type": "code",
   "execution_count": null,
   "metadata": {},
   "outputs": [],
   "source": []
  },
  {
   "cell_type": "code",
   "execution_count": null,
   "metadata": {},
   "outputs": [],
   "source": []
  },
  {
   "cell_type": "code",
   "execution_count": null,
   "metadata": {},
   "outputs": [],
   "source": []
  }
 ],
 "metadata": {
  "kernelspec": {
   "display_name": "llama2",
   "language": "python",
   "name": "python3"
  },
  "language_info": {
   "codemirror_mode": {
    "name": "ipython",
    "version": 3
   },
   "file_extension": ".py",
   "mimetype": "text/x-python",
   "name": "python",
   "nbconvert_exporter": "python",
   "pygments_lexer": "ipython3",
   "version": "3.10.14"
  }
 },
 "nbformat": 4,
 "nbformat_minor": 2
}
