{
 "cells": [
  {
   "cell_type": "code",
   "execution_count": 1,
   "metadata": {},
   "outputs": [],
   "source": [
    "%load_ext autoreload\n",
    "%autoreload 2"
   ]
  },
  {
   "cell_type": "code",
   "execution_count": 2,
   "metadata": {},
   "outputs": [],
   "source": [
    "import time\n",
    "from llserver.utils.handler import UniserverHandler"
   ]
  },
  {
   "cell_type": "code",
   "execution_count": 3,
   "metadata": {},
   "outputs": [
    {
     "name": "stdout",
     "output_type": "stream",
     "text": [
      "Server is ready to go\n"
     ]
    }
   ],
   "source": [
    "handler = UniserverHandler(port=8000)"
   ]
  },
  {
   "cell_type": "code",
   "execution_count": 4,
   "metadata": {},
   "outputs": [
    {
     "data": {
      "text/plain": [
       "{'running_models': {'models': {'1816bf46-797c-4011-9611-9c2c542b20e5': {'model_name': 'api_model',\n",
       "    'model_id': '1816bf46-797c-4011-9611-9c2c542b20e5',\n",
       "    'container_id': '10d63ec4d75c074a20df7f7f9706522b103c22a21a2ca7697cfb34b3ef04b075',\n",
       "    'port': 8081},\n",
       "   '1b9af0e8-0265-41e8-a94d-99cc4d153431': {'model_name': 'api_model',\n",
       "    'model_id': '1b9af0e8-0265-41e8-a94d-99cc4d153431',\n",
       "    'container_id': 'd1d4b06cff6fe9612b1169b34ed3ec05f137ce29bef48f4e712691118fa7dc3d',\n",
       "    'port': 8082}}}}"
      ]
     },
     "execution_count": 4,
     "metadata": {},
     "output_type": "execute_result"
    }
   ],
   "source": [
    "info = handler.get_running_models()\n",
    "model_ids = list(info[\"running_models\"][\"models\"].keys())\n",
    "info\n"
   ]
  },
  {
   "cell_type": "code",
   "execution_count": 5,
   "metadata": {},
   "outputs": [],
   "source": [
    "model_id = model_ids[-1]"
   ]
  },
  {
   "cell_type": "code",
   "execution_count": 6,
   "metadata": {},
   "outputs": [
    {
     "name": "stdout",
     "output_type": "stream",
     "text": [
      "{}\n",
      "{'model_id': '1b9af0e8-0265-41e8-a94d-99cc4d153431', 'prompt': 'compare images', 'image_paths': ['/llserver/data/metatmp.png', '/llserver/data/metatmp1.png'], 'extra_params': {}}\n",
      "{}\n",
      "{'model_id': '1b9af0e8-0265-41e8-a94d-99cc4d153431', 'prompt': 'compare images', 'image_paths': ['/llserver/data/metatmp.png', '/llserver/data/metatmp1.png'], 'extra_params': {}}\n",
      "{}\n",
      "{'model_id': '1b9af0e8-0265-41e8-a94d-99cc4d153431', 'prompt': 'compare images', 'image_paths': ['/llserver/data/metatmp.png', '/llserver/data/metatmp1.png'], 'extra_params': {}}\n",
      "{}\n",
      "{'model_id': '1b9af0e8-0265-41e8-a94d-99cc4d153431', 'prompt': 'compare images', 'image_paths': ['/llserver/data/metatmp.png', '/llserver/data/metatmp1.png'], 'extra_params': {}}\n",
      "{}\n",
      "{'model_id': '1b9af0e8-0265-41e8-a94d-99cc4d153431', 'prompt': 'compare images', 'image_paths': ['/llserver/data/metatmp.png', '/llserver/data/metatmp1.png'], 'extra_params': {}}\n",
      "{}\n",
      "{'model_id': '1b9af0e8-0265-41e8-a94d-99cc4d153431', 'prompt': 'compare images', 'image_paths': ['/llserver/data/metatmp.png', '/llserver/data/metatmp1.png'], 'extra_params': {}}\n",
      "{}\n",
      "{'model_id': '1b9af0e8-0265-41e8-a94d-99cc4d153431', 'prompt': 'compare images', 'image_paths': ['/llserver/data/metatmp.png', '/llserver/data/metatmp1.png'], 'extra_params': {}}\n",
      "{}\n",
      "{'model_id': '1b9af0e8-0265-41e8-a94d-99cc4d153431', 'prompt': 'compare images', 'image_paths': ['/llserver/data/metatmp.png', '/llserver/data/metatmp1.png'], 'extra_params': {}}\n",
      "{}\n",
      "{'model_id': '1b9af0e8-0265-41e8-a94d-99cc4d153431', 'prompt': 'compare images', 'image_paths': ['/llserver/data/metatmp.png', '/llserver/data/metatmp1.png'], 'extra_params': {}}\n",
      "{}\n",
      "{'model_id': '1b9af0e8-0265-41e8-a94d-99cc4d153431', 'prompt': 'compare images', 'image_paths': ['/llserver/data/metatmp.png', '/llserver/data/metatmp1.png'], 'extra_params': {}}\n"
     ]
    },
    {
     "data": {
      "text/plain": [
       "[{'model_id': '1b9af0e8-0265-41e8-a94d-99cc4d153431',\n",
       "  'task_id': '785343ab-72fc-44cd-97f9-4d9419167046'},\n",
       " {'model_id': '1b9af0e8-0265-41e8-a94d-99cc4d153431',\n",
       "  'task_id': '12e95f4f-29d7-4d85-8f8a-14f2aca7d7bb'},\n",
       " {'model_id': '1b9af0e8-0265-41e8-a94d-99cc4d153431',\n",
       "  'task_id': '4bcd85aa-5663-466c-b5ce-a1870729e2ba'},\n",
       " {'model_id': '1b9af0e8-0265-41e8-a94d-99cc4d153431',\n",
       "  'task_id': '14a5a61c-7e3d-44ca-8ae3-a6e7d1f9170c'},\n",
       " {'model_id': '1b9af0e8-0265-41e8-a94d-99cc4d153431',\n",
       "  'task_id': '8e4a02d3-7171-42ab-b971-ab42a2e9a84b'},\n",
       " {'model_id': '1b9af0e8-0265-41e8-a94d-99cc4d153431',\n",
       "  'task_id': '7386af32-2759-4c34-91d8-7df866034b94'},\n",
       " {'model_id': '1b9af0e8-0265-41e8-a94d-99cc4d153431',\n",
       "  'task_id': 'f08df1f7-2d2a-4b19-b4c2-9aa49ee6bae7'},\n",
       " {'model_id': '1b9af0e8-0265-41e8-a94d-99cc4d153431',\n",
       "  'task_id': '2d89a10f-9671-44eb-b8c7-8324dbf44b0f'},\n",
       " {'model_id': '1b9af0e8-0265-41e8-a94d-99cc4d153431',\n",
       "  'task_id': 'f0e90185-717b-4eaa-b0fb-ff22c5008496'},\n",
       " {'model_id': '1b9af0e8-0265-41e8-a94d-99cc4d153431',\n",
       "  'task_id': 'a64f5d85-b8af-471d-86bf-971bb4f3dadb'}]"
      ]
     },
     "execution_count": 6,
     "metadata": {},
     "output_type": "execute_result"
    }
   ],
   "source": [
    "task_number = 10\n",
    "# # Make task_number requests to each model instance\n",
    "to_recieve_tasks = []\n",
    "\n",
    "for i in range(task_number):\n",
    "    prompt = \"compare images\"\n",
    "    base_path = \"/llserver/data/\"\n",
    "    image_paths = [\n",
    "        base_path + \"metatmp.png\",\n",
    "        base_path + \"metatmp1.png\",\n",
    "    ]\n",
    "    model_name_to_req = \"gemini-pro-1.5\"\n",
    "\n",
    "    put_response = handler.put_task(model_id=model_id, prompt=prompt, image_paths=image_paths)\n",
    "    task_id = put_response[\"task_id\"][\"task_id\"]\n",
    "    to_recieve_tasks.append({\n",
    "        \"model_id\": model_id,\n",
    "        \"task_id\": task_id\n",
    "    })\n",
    "to_recieve_tasks"
   ]
  },
  {
   "cell_type": "code",
   "execution_count": 7,
   "metadata": {},
   "outputs": [
    {
     "name": "stdout",
     "output_type": "stream",
     "text": [
      "====================================================================================================\n",
      "{'model_id': '1b9af0e8-0265-41e8-a94d-99cc4d153431', 'task_id': '785343ab-72fc-44cd-97f9-4d9419167046'}\n",
      "The two images are nearly identical, with one key difference: the position of the balls on the table.  In the animated gif, the red and blue balls shift position slightly as the robotic arm moves down. The red ball, specifically, seems to be displaced by the action of the arm or its simulated air pressure.\n",
      "\n",
      "====================================================================================================\n",
      "{'model_id': '1b9af0e8-0265-41e8-a94d-99cc4d153431', 'task_id': '12e95f4f-29d7-4d85-8f8a-14f2aca7d7bb'}\n",
      "The primary difference between the images is the position of the robotic arm and the objects on the table surface.  The arm is moving, and in some frames, it has two finger-like appendages extended. There are also small spheres (red and blue) and a small red cylinder that change position on the table. This suggests a sequence of images, likely from a simulation or video, where the robot arm is manipulating or interacting with the objects.  The cyan lines appearing from the robot's \"fingers\" could represent a sensor beam or some other form of interaction with the environment.\n",
      "\n",
      "====================================================================================================\n",
      "{'model_id': '1b9af0e8-0265-41e8-a94d-99cc4d153431', 'task_id': '4bcd85aa-5663-466c-b5ce-a1870729e2ba'}\n",
      "The main difference between the images is the position of the robotic arm and the objects on the table. The arm has moved slightly, and the red and blue balls have shifted. A red cylinder has also appeared on the table. It seems like the robot arm might be manipulating or interacting with these objects.\n",
      "====================================================================================================\n",
      "{'model_id': '1b9af0e8-0265-41e8-a94d-99cc4d153431', 'task_id': '14a5a61c-7e3d-44ca-8ae3-a6e7d1f9170c'}\n",
      "The main difference between the images is the position of the robotic arm and the objects on the table. The arm is moving down towards the table, and there are now three small objects visible on the table surface:\n",
      "\n",
      "* **Red cylinder:** This object appears to be stationary in both frames.\n",
      "* **Blue sphere:** This object is also stationary.\n",
      "* **Red sphere:** This object only appears in the  image attached to the end of one of the robotic arm's \"fingers.\" It seems the arm is picking up or placing this red sphere.  The light blue lines originating from the robot's fingers likely represent a sensor, maybe for force or proximity.\n",
      "\n",
      "\n",
      "It appears the image sequence shows a moment in a pick-and-place operation being performed by the robotic arm.\n",
      "\n",
      "====================================================================================================\n",
      "{'model_id': '1b9af0e8-0265-41e8-a94d-99cc4d153431', 'task_id': '8e4a02d3-7171-42ab-b971-ab42a2e9a84b'}\n",
      "The primary difference between the images is the position of the robotic arm and the objects on the table.  The arm is moving down towards the surface in a pinching motion.  It appears to be trying to grasp something.\n",
      "\n",
      "More specifically:\n",
      "\n",
      "* **Robotic Arm:**  In the original image, the robotic arm's gripper (or \"fingers\") is closer to the table surface than in the second image. It looks like it is in mid-motion.\n",
      "* **Objects on the Table:** In the original image, a blue sphere is present on the table. A red cylinder is also visible. These objects remain stationary in all images. A white sphere or dot appears transiently just above the table near the red gripper finger, suggesting contact or a sensor reading.  There is also a pale blue vertical glow between the two gripper fingers which also changes with the gripper position,  possibly representing a simulated laser or other proximity sensor.\n",
      "\n",
      "\n",
      "\n",
      "The animation implies that the robot is attempting a pick-and-place operation, possibly using sensor information to guide its movements.\n",
      "\n",
      "====================================================================================================\n",
      "{'model_id': '1b9af0e8-0265-41e8-a94d-99cc4d153431', 'task_id': '7386af32-2759-4c34-91d8-7df866034b94'}\n",
      "The two images are nearly identical, showing a robotic arm interacting with objects on a table.  The key difference is the position of the arm and the objects it's manipulating. In the animated image, the arm moves, and at least one of the small objects (possibly balls or pucks) changes position. The red one is picked up. The blue one does not move.  The animation shows the action unfolding, whereas a single still image only captures one moment in time.\n",
      "\n",
      "====================================================================================================\n",
      "{'model_id': '1b9af0e8-0265-41e8-a94d-99cc4d153431', 'task_id': 'f08df1f7-2d2a-4b19-b4c2-9aa49ee6bae7'}\n",
      "The red robotic arm is using two finger-like grippers to pick up objects on a wooden-like surface (possibly a table or sandbox).  \n",
      "\n",
      "Here's a breakdown of the changes/differences:\n",
      "\n",
      "* **Initial Image:** The grippers are approaching a small, red cylinder, with a blue sphere nearby.\n",
      "* **Animated GIF:** The grippers close around the red cylinder, lift it, and then drop it back onto the surface.\n",
      "\n",
      "The animation demonstrates the robot's ability to manipulate small objects using a basic gripping action. The blue sphere remains untouched, serving as a reference point or a potential next target.  The faint, light blue lines extending from the grippers seem to indicate a sensor or guide for precise positioning.\n",
      "====================================================================================================\n",
      "{'model_id': '1b9af0e8-0265-41e8-a94d-99cc4d153431', 'task_id': '2d89a10f-9671-44eb-b8c7-8324dbf44b0f'}\n",
      "The main difference between the images is the position of the robotic arm and the small objects on the table. The robotic arm is moving downwards towards the table.  Two thin extensions can be seen descending from the arm's end effector. There are three small objects on the table's surface:\n",
      "\n",
      "* **Red Cylinder:** This remains stationary in all frames.\n",
      "* **Blue Sphere:** This also remains stationary.\n",
      "* **Red Sphere:** This one appears to be attached to the end of one of the arm extensions and moves downwards with the arm. In the initial frames there is a light blue \"beam\" coming from each extension, but they disappear in the last frames. It could mean the beams are somehow involved in manipulating the red sphere.\n",
      "\n",
      "\n",
      "It seems like the robot arm is performing a pick-and-place or manipulation task involving the red sphere. The blue beams might represent some kind of sensor or force being applied.\n",
      "\n",
      "====================================================================================================\n",
      "{'model_id': '1b9af0e8-0265-41e8-a94d-99cc4d153431', 'task_id': 'f0e90185-717b-4eaa-b0fb-ff22c5008496'}\n",
      "The robotic arm is moving over a table. The arm's gripper has two small probes (or prongs) close to the surface of the table. In the first frame, there are three small objects on the table: two spheres (one blue, one red) and a red cylinder. In the following frames, the blue sphere is gone.\n",
      "====================================================================================================\n",
      "{'model_id': '1b9af0e8-0265-41e8-a94d-99cc4d153431', 'task_id': 'a64f5d85-b8af-471d-86bf-971bb4f3dadb'}\n",
      "The images show a robotic arm interacting with a sandbox-like environment.  The key differences are the positions of the small colored objects within the sandbox and the position/orientation of the robotic arm's gripper.  It looks like a sequence of actions are being performed, possibly for a task like picking and placing the objects.\n",
      "\n"
     ]
    }
   ],
   "source": [
    "for task in to_recieve_tasks:\n",
    "    while True:\n",
    "        result = handler.get_task_result(model_id=task[\"model_id\"], task_id=task[\"task_id\"])\n",
    "        if result[\"status\"] == \"in_progress\":\n",
    "            time.sleep(1)\n",
    "        else:\n",
    "            print(\"=\"*100)\n",
    "            print(task)\n",
    "            print(result[\"result\"])\n",
    "            break\n"
   ]
  },
  {
   "cell_type": "code",
   "execution_count": 42,
   "metadata": {},
   "outputs": [
    {
     "name": "stdout",
     "output_type": "stream",
     "text": [
      "{'model_id': 'cfa85b5d-ecb3-4b38-83c3-96f44178811e', 'status': 'Model stopped', 'container_id': 'faa1d9bcc26db2d350ef4276a509de040490735d7abfb55cabffe3cbd8692e29', 'port': 8081}\n",
      "{'model_id': '5ead40cc-ed66-4177-b481-6d717df24fd9', 'status': 'Model stopped', 'container_id': '9ba62b72fc8ecd871e279a3f05fa92dcd967da87bb19792d588f1037da1d734c', 'port': 8082}\n",
      "{'model_id': '56cd360c-f3c5-450a-be87-e8a0da303385', 'status': 'Model stopped', 'container_id': 'acb1f56b903c66142fa709ceb851d67eef0682a0ba8194851471ab444127d136', 'port': 8083}\n"
     ]
    }
   ],
   "source": [
    "handler.stop_all_models()"
   ]
  },
  {
   "cell_type": "code",
   "execution_count": 11,
   "metadata": {},
   "outputs": [
    {
     "data": {
      "text/plain": [
       "{'model_name': 'api_model',\n",
       " 'status': 'Model started',\n",
       " 'container_id': '2ff2793fae01b0584303ce73156500153502821d24c23966bbb92952e3dd7eb8',\n",
       " 'port': 8081,\n",
       " 'model_id': '1e778008-2986-4f25-b01a-d5b483f3d1dd'}"
      ]
     },
     "execution_count": 11,
     "metadata": {},
     "output_type": "execute_result"
    }
   ],
   "source": [
    "handler.start_model(\"api_model\")"
   ]
  },
  {
   "cell_type": "code",
   "execution_count": 20,
   "metadata": {},
   "outputs": [
    {
     "data": {
      "text/plain": [
       "{'running_models': {'models': {'ff734668-2e2d-4fc8-a08a-ee14e8023343': {'model_name': 'api_model',\n",
       "    'model_id': 'ff734668-2e2d-4fc8-a08a-ee14e8023343',\n",
       "    'container_id': '306b6f4980687c9ab80f42f9d6bf8f139c7a037e3c3a015383919415a762e71c',\n",
       "    'port': 8081}}}}"
      ]
     },
     "execution_count": 20,
     "metadata": {},
     "output_type": "execute_result"
    }
   ],
   "source": [
    "info = handler.get_running_models()\n",
    "info"
   ]
  },
  {
   "cell_type": "code",
   "execution_count": 21,
   "metadata": {},
   "outputs": [
    {
     "name": "stdout",
     "output_type": "stream",
     "text": [
      "{}\n",
      "{'model_id': 'ff734668-2e2d-4fc8-a08a-ee14e8023343', 'prompt': 'compare images', 'image_paths': ['/llserver/data/metatmp.png', '/llserver/data/metatmp1.png'], 'extra_params': {}}\n"
     ]
    }
   ],
   "source": [
    "model_id = list(info[\"running_models\"][\"models\"].keys())[0]\n",
    "prompt = \"compare images\"\n",
    "\n",
    "base_path = \"/llserver/data/\"\n",
    "image_paths = [\n",
    "    base_path + \"metatmp.png\",\n",
    "    base_path + \"metatmp1.png\",\n",
    "]\n",
    "# model_name_to_req = \"gpt-4o\"\n",
    "# model_name_to_req = \"gemini-pro-1.5\"\n",
    "put_response = handler.put_task(model_id=model_id, prompt=prompt, image_paths=image_paths)\n",
    "task_id = put_response[\"task_id\"][\"task_id\"]"
   ]
  },
  {
   "cell_type": "code",
   "execution_count": 14,
   "metadata": {},
   "outputs": [
    {
     "name": "stdout",
     "output_type": "stream",
     "text": [
      "The animated GIF shows a robotic arm interacting with a sandbox or table containing small objects.  Here's a breakdown of the changes:\n",
      "\n",
      "* **The Arm:** A red robotic arm, likely modeled after a collaborative robot (cobot) due to its rounded design, is manipulating the objects.\n",
      "* **The Objects:** There's a blue sphere, a red cylinder, and possibly a third small red object are already near the center of the table.  The arm appears to be using two prongs or grippers.\n",
      "* **The Action:**  The GIF shows the arm briefly making contact, picking up, or at least influencing the red cylinder. The red object closest to the arm also momentarily disappears. Then red and blue rays shoot out from between the arms prongs, appearing to almost interact with the blue and red objects respectively.\n",
      "* **The Environment:** The objects are placed on a wooden surface within a metal-sided container.  This container rests on a simple wooden stand or table.\n",
      "\n",
      "The sequence suggests some sort of simulated interaction, perhaps a pick-and-place task or a physics simulation related to forces or beams (indicated by the blue and red rays). The disappearing red object might be a bug in the simulation or a deliberate action within the simulated task.\n",
      "\n"
     ]
    }
   ],
   "source": [
    "result = handler.get_task_result(model_id=model_id, task_id=task_id)\n",
    "print(result[\"result\"])"
   ]
  },
  {
   "cell_type": "code",
   "execution_count": null,
   "metadata": {},
   "outputs": [],
   "source": []
  },
  {
   "cell_type": "code",
   "execution_count": null,
   "metadata": {},
   "outputs": [],
   "source": []
  },
  {
   "cell_type": "code",
   "execution_count": null,
   "metadata": {},
   "outputs": [],
   "source": []
  },
  {
   "cell_type": "code",
   "execution_count": null,
   "metadata": {},
   "outputs": [],
   "source": []
  },
  {
   "cell_type": "code",
   "execution_count": null,
   "metadata": {},
   "outputs": [],
   "source": []
  },
  {
   "cell_type": "code",
   "execution_count": null,
   "metadata": {},
   "outputs": [],
   "source": []
  }
 ],
 "metadata": {
  "kernelspec": {
   "display_name": "llama2",
   "language": "python",
   "name": "python3"
  },
  "language_info": {
   "codemirror_mode": {
    "name": "ipython",
    "version": 3
   },
   "file_extension": ".py",
   "mimetype": "text/x-python",
   "name": "python",
   "nbconvert_exporter": "python",
   "pygments_lexer": "ipython3",
   "version": "3.10.14"
  }
 },
 "nbformat": 4,
 "nbformat_minor": 2
}
