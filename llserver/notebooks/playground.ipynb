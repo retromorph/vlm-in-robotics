{
 "cells": [
  {
   "cell_type": "code",
   "execution_count": 1,
   "metadata": {},
   "outputs": [],
   "source": [
    "%load_ext autoreload\n",
    "%autoreload 2"
   ]
  },
  {
   "cell_type": "code",
   "execution_count": 4,
   "metadata": {},
   "outputs": [],
   "source": [
    "import os\n",
    "os.environ[\"MUJOCO_GL\"] = \"egl\"\n",
    "\n",
    "from PIL import Image\n",
    "import numpy as np\n",
    "import asyncio\n",
    "import requests\n",
    "import time\n",
    "\n",
    "from IPython import display\n",
    "\n",
    "%matplotlib inline\n",
    "import matplotlib.pyplot as plt\n",
    "\n",
    "import metaworld\n",
    "import random\n",
    "from llava.constants import DEFAULT_IMAGE_TOKEN\n",
    "\n",
    "from llserver.utils import put_task, get_task_result"
   ]
  },
  {
   "cell_type": "code",
   "execution_count": 5,
   "metadata": {},
   "outputs": [],
   "source": [
    "env_name = 'pick-place-v2' # Pick an environment name\n",
    "render_mode = 'rgb_array' # set a render mode\n",
    "\n",
    "ml1 = metaworld.ML1(env_name) # Construct the benchmark, sampling tasks\n",
    "camera_name = 'corner' # one of: ['corner', 'corner2', 'corner3', 'topview', 'behindGripper', 'gripperPOV']\n",
    "env = ml1.train_classes[env_name](render_mode=render_mode, camera_name=camera_name)\n",
    "\n",
    "task = random.choice(ml1.train_tasks)\n",
    "env.set_task(task)  # Set task\n",
    "obs = env.reset()  # Reset environment"
   ]
  },
  {
   "cell_type": "code",
   "execution_count": 6,
   "metadata": {},
   "outputs": [],
   "source": [
    "for i in range(10):\n",
    "    action = np.array([1, 0, 0, 0])\n",
    "    (next_obs, reward, terminated, truncated, info) = env.step(action)\n"
   ]
  },
  {
   "cell_type": "code",
   "execution_count": null,
   "metadata": {},
   "outputs": [],
   "source": [
    "img1 = Image.fromarray(env.render()[::-1,::,::], 'RGB')\n",
    "img1.save('metatmp1.png')\n",
    "img1"
   ]
  },
  {
   "cell_type": "code",
   "execution_count": 11,
   "metadata": {},
   "outputs": [],
   "source": [
    "prompt = f\"\"\"\n",
    "You an action planner of a robot arm.\n",
    "You are able to execute commands:\n",
    "- move up\n",
    "- move down\n",
    "- move left\n",
    "- move right\n",
    "- move back\n",
    "- move forward\n",
    "- grasp object\n",
    "\n",
    "You are provided with two images of a different state of execution.\n",
    "Tell what commands were executed.\n",
    "image 1: {DEFAULT_IMAGE_TOKEN} \n",
    "image 2: {DEFAULT_IMAGE_TOKEN}\n",
    "\"\"\"\n",
    "img_path = \"~/work/meta_world/src/data/\"\n",
    "task_response = put_task([img_path+\"metatmp.png\", img_path+\"metatmp1.png\"], prompt)\n",
    "task_id = task_response.get(\"task_id\")"
   ]
  },
  {
   "cell_type": "code",
   "execution_count": null,
   "metadata": {},
   "outputs": [],
   "source": [
    "task_id"
   ]
  },
  {
   "cell_type": "code",
   "execution_count": null,
   "metadata": {},
   "outputs": [],
   "source": [
    "result_response = get_task_result(task_id)\n",
    "result_response"
   ]
  },
  {
   "cell_type": "code",
   "execution_count": null,
   "metadata": {},
   "outputs": [],
   "source": [
    "import os\n",
    "os.environ['HF_HOME'] = \"~/work/meta_world/llava_ckhp\"\n",
    "\n",
    "import asyncio\n",
    "import uuid\n",
    "from PIL import Image\n",
    "import requests\n",
    "import copy\n",
    "import torch\n",
    "import warnings\n",
    "from llava.model.builder import load_pretrained_model\n",
    "from llava.mm_utils import process_images, tokenizer_image_token\n",
    "from llava.constants import IMAGE_TOKEN_INDEX, DEFAULT_IMAGE_TOKEN\n",
    "from llava.conversation import conv_templates\n",
    "\n",
    "conv_template = \"qwen_1_5\"\n",
    "question = \"Hiii\"  # Токены изображений уже содержатся в промпте\n",
    "conv = copy.deepcopy(conv_templates[conv_template])\n",
    "conv.append_message(conv.roles[0], question)\n",
    "conv.append_message(conv.roles[1], None)\n",
    "prompt_question = conv.get_prompt()"
   ]
  },
  {
   "cell_type": "code",
   "execution_count": null,
   "metadata": {},
   "outputs": [],
   "source": [
    "conv_templates[\"qwen_1_5\"]"
   ]
  },
  {
   "cell_type": "code",
   "execution_count": null,
   "metadata": {},
   "outputs": [],
   "source": [
    "print(prompt_question)"
   ]
  }
 ],
 "metadata": {
  "kernelspec": {
   "display_name": "llama2",
   "language": "python",
   "name": "python3"
  },
  "language_info": {
   "codemirror_mode": {
    "name": "ipython",
    "version": 3
   },
   "file_extension": ".py",
   "mimetype": "text/x-python",
   "name": "python",
   "nbconvert_exporter": "python",
   "pygments_lexer": "ipython3",
   "version": "3.10.14"
  }
 },
 "nbformat": 4,
 "nbformat_minor": 2
}
